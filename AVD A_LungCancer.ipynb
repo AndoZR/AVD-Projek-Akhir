{
  "nbformat": 4,
  "nbformat_minor": 0,
  "metadata": {
    "colab": {
      "provenance": []
    },
    "kernelspec": {
      "name": "python3",
      "display_name": "Python 3"
    },
    "language_info": {
      "name": "python"
    }
  },
  "cells": [
    {
      "cell_type": "markdown",
      "source": [
        "**IMPORT LIBRARY YANG DIBUTUHKAN**"
      ],
      "metadata": {
        "id": "RCvlSLs7iylY"
      }
    },
    {
      "cell_type": "code",
      "execution_count": 504,
      "metadata": {
        "id": "mw1fDIOLhx7T"
      },
      "outputs": [],
      "source": [
        "import pandas as pd\n",
        "import numpy as np\n",
        "import matplotlib.pyplot as plt\n",
        "import seaborn as sns\n",
        "import scipy as sp\n",
        "\n",
        "%matplotlib inline\n",
        "sns.set(color_codes=True)\n",
        "\n",
        "from sklearn.neighbors import KNeighborsClassifier"
      ]
    },
    {
      "cell_type": "markdown",
      "source": [
        "**BACA DATA**"
      ],
      "metadata": {
        "id": "EfY1KRywi34O"
      }
    },
    {
      "cell_type": "code",
      "source": [
        "df = pd.read_csv(\"dataSmoker.csv\")\n",
        "df.head(5)"
      ],
      "metadata": {
        "colab": {
          "base_uri": "https://localhost:8080/",
          "height": 206
        },
        "id": "3XspnziZiI-W",
        "outputId": "1b65dde8-d653-440f-fd9d-60086e88fe46"
      },
      "execution_count": 505,
      "outputs": [
        {
          "output_type": "execute_result",
          "data": {
            "text/plain": [
              "      pid  age gender   race   smoker  days_to_cancer stage_of_cancer\n",
              "0  100001   70   Male  White  Current             NaN             NaN\n",
              "1  100002   66   Male  White  Current             NaN             NaN\n",
              "2  100003   64   Male  White  Current             NaN             NaN\n",
              "3  100004   60   Male  White   Former             NaN             NaN\n",
              "4  100005   64   Male  White   Former             NaN             NaN"
            ],
            "text/html": [
              "\n",
              "  <div id=\"df-014d48fb-3d5a-4237-b91b-da33c7f8faf6\">\n",
              "    <div class=\"colab-df-container\">\n",
              "      <div>\n",
              "<style scoped>\n",
              "    .dataframe tbody tr th:only-of-type {\n",
              "        vertical-align: middle;\n",
              "    }\n",
              "\n",
              "    .dataframe tbody tr th {\n",
              "        vertical-align: top;\n",
              "    }\n",
              "\n",
              "    .dataframe thead th {\n",
              "        text-align: right;\n",
              "    }\n",
              "</style>\n",
              "<table border=\"1\" class=\"dataframe\">\n",
              "  <thead>\n",
              "    <tr style=\"text-align: right;\">\n",
              "      <th></th>\n",
              "      <th>pid</th>\n",
              "      <th>age</th>\n",
              "      <th>gender</th>\n",
              "      <th>race</th>\n",
              "      <th>smoker</th>\n",
              "      <th>days_to_cancer</th>\n",
              "      <th>stage_of_cancer</th>\n",
              "    </tr>\n",
              "  </thead>\n",
              "  <tbody>\n",
              "    <tr>\n",
              "      <th>0</th>\n",
              "      <td>100001</td>\n",
              "      <td>70</td>\n",
              "      <td>Male</td>\n",
              "      <td>White</td>\n",
              "      <td>Current</td>\n",
              "      <td>NaN</td>\n",
              "      <td>NaN</td>\n",
              "    </tr>\n",
              "    <tr>\n",
              "      <th>1</th>\n",
              "      <td>100002</td>\n",
              "      <td>66</td>\n",
              "      <td>Male</td>\n",
              "      <td>White</td>\n",
              "      <td>Current</td>\n",
              "      <td>NaN</td>\n",
              "      <td>NaN</td>\n",
              "    </tr>\n",
              "    <tr>\n",
              "      <th>2</th>\n",
              "      <td>100003</td>\n",
              "      <td>64</td>\n",
              "      <td>Male</td>\n",
              "      <td>White</td>\n",
              "      <td>Current</td>\n",
              "      <td>NaN</td>\n",
              "      <td>NaN</td>\n",
              "    </tr>\n",
              "    <tr>\n",
              "      <th>3</th>\n",
              "      <td>100004</td>\n",
              "      <td>60</td>\n",
              "      <td>Male</td>\n",
              "      <td>White</td>\n",
              "      <td>Former</td>\n",
              "      <td>NaN</td>\n",
              "      <td>NaN</td>\n",
              "    </tr>\n",
              "    <tr>\n",
              "      <th>4</th>\n",
              "      <td>100005</td>\n",
              "      <td>64</td>\n",
              "      <td>Male</td>\n",
              "      <td>White</td>\n",
              "      <td>Former</td>\n",
              "      <td>NaN</td>\n",
              "      <td>NaN</td>\n",
              "    </tr>\n",
              "  </tbody>\n",
              "</table>\n",
              "</div>\n",
              "      <button class=\"colab-df-convert\" onclick=\"convertToInteractive('df-014d48fb-3d5a-4237-b91b-da33c7f8faf6')\"\n",
              "              title=\"Convert this dataframe to an interactive table.\"\n",
              "              style=\"display:none;\">\n",
              "        \n",
              "  <svg xmlns=\"http://www.w3.org/2000/svg\" height=\"24px\"viewBox=\"0 0 24 24\"\n",
              "       width=\"24px\">\n",
              "    <path d=\"M0 0h24v24H0V0z\" fill=\"none\"/>\n",
              "    <path d=\"M18.56 5.44l.94 2.06.94-2.06 2.06-.94-2.06-.94-.94-2.06-.94 2.06-2.06.94zm-11 1L8.5 8.5l.94-2.06 2.06-.94-2.06-.94L8.5 2.5l-.94 2.06-2.06.94zm10 10l.94 2.06.94-2.06 2.06-.94-2.06-.94-.94-2.06-.94 2.06-2.06.94z\"/><path d=\"M17.41 7.96l-1.37-1.37c-.4-.4-.92-.59-1.43-.59-.52 0-1.04.2-1.43.59L10.3 9.45l-7.72 7.72c-.78.78-.78 2.05 0 2.83L4 21.41c.39.39.9.59 1.41.59.51 0 1.02-.2 1.41-.59l7.78-7.78 2.81-2.81c.8-.78.8-2.07 0-2.86zM5.41 20L4 18.59l7.72-7.72 1.47 1.35L5.41 20z\"/>\n",
              "  </svg>\n",
              "      </button>\n",
              "      \n",
              "  <style>\n",
              "    .colab-df-container {\n",
              "      display:flex;\n",
              "      flex-wrap:wrap;\n",
              "      gap: 12px;\n",
              "    }\n",
              "\n",
              "    .colab-df-convert {\n",
              "      background-color: #E8F0FE;\n",
              "      border: none;\n",
              "      border-radius: 50%;\n",
              "      cursor: pointer;\n",
              "      display: none;\n",
              "      fill: #1967D2;\n",
              "      height: 32px;\n",
              "      padding: 0 0 0 0;\n",
              "      width: 32px;\n",
              "    }\n",
              "\n",
              "    .colab-df-convert:hover {\n",
              "      background-color: #E2EBFA;\n",
              "      box-shadow: 0px 1px 2px rgba(60, 64, 67, 0.3), 0px 1px 3px 1px rgba(60, 64, 67, 0.15);\n",
              "      fill: #174EA6;\n",
              "    }\n",
              "\n",
              "    [theme=dark] .colab-df-convert {\n",
              "      background-color: #3B4455;\n",
              "      fill: #D2E3FC;\n",
              "    }\n",
              "\n",
              "    [theme=dark] .colab-df-convert:hover {\n",
              "      background-color: #434B5C;\n",
              "      box-shadow: 0px 1px 3px 1px rgba(0, 0, 0, 0.15);\n",
              "      filter: drop-shadow(0px 1px 2px rgba(0, 0, 0, 0.3));\n",
              "      fill: #FFFFFF;\n",
              "    }\n",
              "  </style>\n",
              "\n",
              "      <script>\n",
              "        const buttonEl =\n",
              "          document.querySelector('#df-014d48fb-3d5a-4237-b91b-da33c7f8faf6 button.colab-df-convert');\n",
              "        buttonEl.style.display =\n",
              "          google.colab.kernel.accessAllowed ? 'block' : 'none';\n",
              "\n",
              "        async function convertToInteractive(key) {\n",
              "          const element = document.querySelector('#df-014d48fb-3d5a-4237-b91b-da33c7f8faf6');\n",
              "          const dataTable =\n",
              "            await google.colab.kernel.invokeFunction('convertToInteractive',\n",
              "                                                     [key], {});\n",
              "          if (!dataTable) return;\n",
              "\n",
              "          const docLinkHtml = 'Like what you see? Visit the ' +\n",
              "            '<a target=\"_blank\" href=https://colab.research.google.com/notebooks/data_table.ipynb>data table notebook</a>'\n",
              "            + ' to learn more about interactive tables.';\n",
              "          element.innerHTML = '';\n",
              "          dataTable['output_type'] = 'display_data';\n",
              "          await google.colab.output.renderOutput(dataTable, element);\n",
              "          const docLink = document.createElement('div');\n",
              "          docLink.innerHTML = docLinkHtml;\n",
              "          element.appendChild(docLink);\n",
              "        }\n",
              "      </script>\n",
              "    </div>\n",
              "  </div>\n",
              "  "
            ]
          },
          "metadata": {},
          "execution_count": 505
        }
      ]
    },
    {
      "cell_type": "markdown",
      "source": [
        "**PRA-PEMROSESAN DATA**"
      ],
      "metadata": {
        "id": "N5EFeRueSCr3"
      }
    },
    {
      "cell_type": "markdown",
      "source": [
        "Null Value : Menangani data yang hilang"
      ],
      "metadata": {
        "id": "omAV0atRUNC5"
      }
    },
    {
      "cell_type": "code",
      "source": [
        "print(df.isnull().sum())"
      ],
      "metadata": {
        "colab": {
          "base_uri": "https://localhost:8080/"
        },
        "id": "WTvrJWthSaaQ",
        "outputId": "049a8578-4d1d-4923-974d-1bac6dec95aa"
      },
      "execution_count": 506,
      "outputs": [
        {
          "output_type": "stream",
          "name": "stdout",
          "text": [
            "pid                    0\n",
            "age                    0\n",
            "gender                 0\n",
            "race                 261\n",
            "smoker                 0\n",
            "days_to_cancer     51394\n",
            "stage_of_cancer    51395\n",
            "dtype: int64\n"
          ]
        }
      ]
    },
    {
      "cell_type": "code",
      "source": [
        "df = df.dropna()\n",
        "print(df.isnull().sum())"
      ],
      "metadata": {
        "colab": {
          "base_uri": "https://localhost:8080/"
        },
        "id": "Ti7J86lpiVqi",
        "outputId": "bc753484-a949-4e2f-b697-7469ec5dfb07"
      },
      "execution_count": 507,
      "outputs": [
        {
          "output_type": "stream",
          "name": "stdout",
          "text": [
            "pid                0\n",
            "age                0\n",
            "gender             0\n",
            "race               0\n",
            "smoker             0\n",
            "days_to_cancer     0\n",
            "stage_of_cancer    0\n",
            "dtype: int64\n"
          ]
        }
      ]
    },
    {
      "cell_type": "markdown",
      "source": [
        "Reduksi data : Menangani kolom yang tidak relevan atau tidak diperlukan atau tidak digunakan pada proses analisa dan prediksi nanti"
      ],
      "metadata": {
        "id": "DWJnhsmTj9UL"
      }
    },
    {
      "cell_type": "code",
      "source": [
        "df = df.drop([\"pid\"], axis=1)"
      ],
      "metadata": {
        "id": "VH9MH8eNkJQs"
      },
      "execution_count": 508,
      "outputs": []
    },
    {
      "cell_type": "code",
      "source": [
        "df.head(5)"
      ],
      "metadata": {
        "colab": {
          "base_uri": "https://localhost:8080/",
          "height": 206
        },
        "id": "iIdlq1e7lU4y",
        "outputId": "55d48e29-d7aa-4be5-a82f-58fa661b2ce3"
      },
      "execution_count": 509,
      "outputs": [
        {
          "output_type": "execute_result",
          "data": {
            "text/plain": [
              "     age  gender   race   smoker  days_to_cancer stage_of_cancer\n",
              "11   161  Female  White  Current           454.0              IA\n",
              "48   174  Female  White  Current          2428.0             IIB\n",
              "54    67    Male  White   Former           148.0              IV\n",
              "146  168    Male  White   Former           491.0              IA\n",
              "157  165    Male  White   Former           795.0              IA"
            ],
            "text/html": [
              "\n",
              "  <div id=\"df-be26e8e9-eea9-44bf-ad76-adcf1a73e7ca\">\n",
              "    <div class=\"colab-df-container\">\n",
              "      <div>\n",
              "<style scoped>\n",
              "    .dataframe tbody tr th:only-of-type {\n",
              "        vertical-align: middle;\n",
              "    }\n",
              "\n",
              "    .dataframe tbody tr th {\n",
              "        vertical-align: top;\n",
              "    }\n",
              "\n",
              "    .dataframe thead th {\n",
              "        text-align: right;\n",
              "    }\n",
              "</style>\n",
              "<table border=\"1\" class=\"dataframe\">\n",
              "  <thead>\n",
              "    <tr style=\"text-align: right;\">\n",
              "      <th></th>\n",
              "      <th>age</th>\n",
              "      <th>gender</th>\n",
              "      <th>race</th>\n",
              "      <th>smoker</th>\n",
              "      <th>days_to_cancer</th>\n",
              "      <th>stage_of_cancer</th>\n",
              "    </tr>\n",
              "  </thead>\n",
              "  <tbody>\n",
              "    <tr>\n",
              "      <th>11</th>\n",
              "      <td>161</td>\n",
              "      <td>Female</td>\n",
              "      <td>White</td>\n",
              "      <td>Current</td>\n",
              "      <td>454.0</td>\n",
              "      <td>IA</td>\n",
              "    </tr>\n",
              "    <tr>\n",
              "      <th>48</th>\n",
              "      <td>174</td>\n",
              "      <td>Female</td>\n",
              "      <td>White</td>\n",
              "      <td>Current</td>\n",
              "      <td>2428.0</td>\n",
              "      <td>IIB</td>\n",
              "    </tr>\n",
              "    <tr>\n",
              "      <th>54</th>\n",
              "      <td>67</td>\n",
              "      <td>Male</td>\n",
              "      <td>White</td>\n",
              "      <td>Former</td>\n",
              "      <td>148.0</td>\n",
              "      <td>IV</td>\n",
              "    </tr>\n",
              "    <tr>\n",
              "      <th>146</th>\n",
              "      <td>168</td>\n",
              "      <td>Male</td>\n",
              "      <td>White</td>\n",
              "      <td>Former</td>\n",
              "      <td>491.0</td>\n",
              "      <td>IA</td>\n",
              "    </tr>\n",
              "    <tr>\n",
              "      <th>157</th>\n",
              "      <td>165</td>\n",
              "      <td>Male</td>\n",
              "      <td>White</td>\n",
              "      <td>Former</td>\n",
              "      <td>795.0</td>\n",
              "      <td>IA</td>\n",
              "    </tr>\n",
              "  </tbody>\n",
              "</table>\n",
              "</div>\n",
              "      <button class=\"colab-df-convert\" onclick=\"convertToInteractive('df-be26e8e9-eea9-44bf-ad76-adcf1a73e7ca')\"\n",
              "              title=\"Convert this dataframe to an interactive table.\"\n",
              "              style=\"display:none;\">\n",
              "        \n",
              "  <svg xmlns=\"http://www.w3.org/2000/svg\" height=\"24px\"viewBox=\"0 0 24 24\"\n",
              "       width=\"24px\">\n",
              "    <path d=\"M0 0h24v24H0V0z\" fill=\"none\"/>\n",
              "    <path d=\"M18.56 5.44l.94 2.06.94-2.06 2.06-.94-2.06-.94-.94-2.06-.94 2.06-2.06.94zm-11 1L8.5 8.5l.94-2.06 2.06-.94-2.06-.94L8.5 2.5l-.94 2.06-2.06.94zm10 10l.94 2.06.94-2.06 2.06-.94-2.06-.94-.94-2.06-.94 2.06-2.06.94z\"/><path d=\"M17.41 7.96l-1.37-1.37c-.4-.4-.92-.59-1.43-.59-.52 0-1.04.2-1.43.59L10.3 9.45l-7.72 7.72c-.78.78-.78 2.05 0 2.83L4 21.41c.39.39.9.59 1.41.59.51 0 1.02-.2 1.41-.59l7.78-7.78 2.81-2.81c.8-.78.8-2.07 0-2.86zM5.41 20L4 18.59l7.72-7.72 1.47 1.35L5.41 20z\"/>\n",
              "  </svg>\n",
              "      </button>\n",
              "      \n",
              "  <style>\n",
              "    .colab-df-container {\n",
              "      display:flex;\n",
              "      flex-wrap:wrap;\n",
              "      gap: 12px;\n",
              "    }\n",
              "\n",
              "    .colab-df-convert {\n",
              "      background-color: #E8F0FE;\n",
              "      border: none;\n",
              "      border-radius: 50%;\n",
              "      cursor: pointer;\n",
              "      display: none;\n",
              "      fill: #1967D2;\n",
              "      height: 32px;\n",
              "      padding: 0 0 0 0;\n",
              "      width: 32px;\n",
              "    }\n",
              "\n",
              "    .colab-df-convert:hover {\n",
              "      background-color: #E2EBFA;\n",
              "      box-shadow: 0px 1px 2px rgba(60, 64, 67, 0.3), 0px 1px 3px 1px rgba(60, 64, 67, 0.15);\n",
              "      fill: #174EA6;\n",
              "    }\n",
              "\n",
              "    [theme=dark] .colab-df-convert {\n",
              "      background-color: #3B4455;\n",
              "      fill: #D2E3FC;\n",
              "    }\n",
              "\n",
              "    [theme=dark] .colab-df-convert:hover {\n",
              "      background-color: #434B5C;\n",
              "      box-shadow: 0px 1px 3px 1px rgba(0, 0, 0, 0.15);\n",
              "      filter: drop-shadow(0px 1px 2px rgba(0, 0, 0, 0.3));\n",
              "      fill: #FFFFFF;\n",
              "    }\n",
              "  </style>\n",
              "\n",
              "      <script>\n",
              "        const buttonEl =\n",
              "          document.querySelector('#df-be26e8e9-eea9-44bf-ad76-adcf1a73e7ca button.colab-df-convert');\n",
              "        buttonEl.style.display =\n",
              "          google.colab.kernel.accessAllowed ? 'block' : 'none';\n",
              "\n",
              "        async function convertToInteractive(key) {\n",
              "          const element = document.querySelector('#df-be26e8e9-eea9-44bf-ad76-adcf1a73e7ca');\n",
              "          const dataTable =\n",
              "            await google.colab.kernel.invokeFunction('convertToInteractive',\n",
              "                                                     [key], {});\n",
              "          if (!dataTable) return;\n",
              "\n",
              "          const docLinkHtml = 'Like what you see? Visit the ' +\n",
              "            '<a target=\"_blank\" href=https://colab.research.google.com/notebooks/data_table.ipynb>data table notebook</a>'\n",
              "            + ' to learn more about interactive tables.';\n",
              "          element.innerHTML = '';\n",
              "          dataTable['output_type'] = 'display_data';\n",
              "          await google.colab.output.renderOutput(dataTable, element);\n",
              "          const docLink = document.createElement('div');\n",
              "          docLink.innerHTML = docLinkHtml;\n",
              "          element.appendChild(docLink);\n",
              "        }\n",
              "      </script>\n",
              "    </div>\n",
              "  </div>\n",
              "  "
            ]
          },
          "metadata": {},
          "execution_count": 509
        }
      ]
    },
    {
      "cell_type": "markdown",
      "source": [
        "Menulis ulang penamaan Header"
      ],
      "metadata": {
        "id": "yEYpSxK8iod2"
      }
    },
    {
      "cell_type": "code",
      "source": [
        "df = df.rename(columns={\"age\":\"Umur\", \"gender\":\"Gender\", \"race\":\"Kulit\", \"smoker\":\"Status\", \"days_to_cancer\":\"Total Hari\", \"stage_of_cancer\":\"Stadium\"})\n",
        "df"
      ],
      "metadata": {
        "colab": {
          "base_uri": "https://localhost:8080/",
          "height": 424
        },
        "id": "c63SrRtYiTRB",
        "outputId": "2502eb9b-af54-4df7-932e-0fd2b3ddfcdd"
      },
      "execution_count": 510,
      "outputs": [
        {
          "output_type": "execute_result",
          "data": {
            "text/plain": [
              "       Umur  Gender  Kulit   Status  Total Hari Stadium\n",
              "11      161  Female  White  Current       454.0      IA\n",
              "48      174  Female  White  Current      2428.0     IIB\n",
              "54       67    Male  White   Former       148.0      IV\n",
              "146     168    Male  White   Former       491.0      IA\n",
              "157     165    Male  White   Former       795.0      IA\n",
              "...     ...     ...    ...      ...         ...     ...\n",
              "53356    60  Female  White   Former        27.0      IB\n",
              "53366    69  Female  White  Current        71.0      IA\n",
              "53370    56    Male  White  Current      1077.0      IV\n",
              "53405    61    Male  White   Former      1632.0      IV\n",
              "53418    57  Female  White   Former      2144.0      IA\n",
              "\n",
              "[2022 rows x 6 columns]"
            ],
            "text/html": [
              "\n",
              "  <div id=\"df-c6d7b6d3-3c3e-423f-b32d-372cab29fa28\">\n",
              "    <div class=\"colab-df-container\">\n",
              "      <div>\n",
              "<style scoped>\n",
              "    .dataframe tbody tr th:only-of-type {\n",
              "        vertical-align: middle;\n",
              "    }\n",
              "\n",
              "    .dataframe tbody tr th {\n",
              "        vertical-align: top;\n",
              "    }\n",
              "\n",
              "    .dataframe thead th {\n",
              "        text-align: right;\n",
              "    }\n",
              "</style>\n",
              "<table border=\"1\" class=\"dataframe\">\n",
              "  <thead>\n",
              "    <tr style=\"text-align: right;\">\n",
              "      <th></th>\n",
              "      <th>Umur</th>\n",
              "      <th>Gender</th>\n",
              "      <th>Kulit</th>\n",
              "      <th>Status</th>\n",
              "      <th>Total Hari</th>\n",
              "      <th>Stadium</th>\n",
              "    </tr>\n",
              "  </thead>\n",
              "  <tbody>\n",
              "    <tr>\n",
              "      <th>11</th>\n",
              "      <td>161</td>\n",
              "      <td>Female</td>\n",
              "      <td>White</td>\n",
              "      <td>Current</td>\n",
              "      <td>454.0</td>\n",
              "      <td>IA</td>\n",
              "    </tr>\n",
              "    <tr>\n",
              "      <th>48</th>\n",
              "      <td>174</td>\n",
              "      <td>Female</td>\n",
              "      <td>White</td>\n",
              "      <td>Current</td>\n",
              "      <td>2428.0</td>\n",
              "      <td>IIB</td>\n",
              "    </tr>\n",
              "    <tr>\n",
              "      <th>54</th>\n",
              "      <td>67</td>\n",
              "      <td>Male</td>\n",
              "      <td>White</td>\n",
              "      <td>Former</td>\n",
              "      <td>148.0</td>\n",
              "      <td>IV</td>\n",
              "    </tr>\n",
              "    <tr>\n",
              "      <th>146</th>\n",
              "      <td>168</td>\n",
              "      <td>Male</td>\n",
              "      <td>White</td>\n",
              "      <td>Former</td>\n",
              "      <td>491.0</td>\n",
              "      <td>IA</td>\n",
              "    </tr>\n",
              "    <tr>\n",
              "      <th>157</th>\n",
              "      <td>165</td>\n",
              "      <td>Male</td>\n",
              "      <td>White</td>\n",
              "      <td>Former</td>\n",
              "      <td>795.0</td>\n",
              "      <td>IA</td>\n",
              "    </tr>\n",
              "    <tr>\n",
              "      <th>...</th>\n",
              "      <td>...</td>\n",
              "      <td>...</td>\n",
              "      <td>...</td>\n",
              "      <td>...</td>\n",
              "      <td>...</td>\n",
              "      <td>...</td>\n",
              "    </tr>\n",
              "    <tr>\n",
              "      <th>53356</th>\n",
              "      <td>60</td>\n",
              "      <td>Female</td>\n",
              "      <td>White</td>\n",
              "      <td>Former</td>\n",
              "      <td>27.0</td>\n",
              "      <td>IB</td>\n",
              "    </tr>\n",
              "    <tr>\n",
              "      <th>53366</th>\n",
              "      <td>69</td>\n",
              "      <td>Female</td>\n",
              "      <td>White</td>\n",
              "      <td>Current</td>\n",
              "      <td>71.0</td>\n",
              "      <td>IA</td>\n",
              "    </tr>\n",
              "    <tr>\n",
              "      <th>53370</th>\n",
              "      <td>56</td>\n",
              "      <td>Male</td>\n",
              "      <td>White</td>\n",
              "      <td>Current</td>\n",
              "      <td>1077.0</td>\n",
              "      <td>IV</td>\n",
              "    </tr>\n",
              "    <tr>\n",
              "      <th>53405</th>\n",
              "      <td>61</td>\n",
              "      <td>Male</td>\n",
              "      <td>White</td>\n",
              "      <td>Former</td>\n",
              "      <td>1632.0</td>\n",
              "      <td>IV</td>\n",
              "    </tr>\n",
              "    <tr>\n",
              "      <th>53418</th>\n",
              "      <td>57</td>\n",
              "      <td>Female</td>\n",
              "      <td>White</td>\n",
              "      <td>Former</td>\n",
              "      <td>2144.0</td>\n",
              "      <td>IA</td>\n",
              "    </tr>\n",
              "  </tbody>\n",
              "</table>\n",
              "<p>2022 rows × 6 columns</p>\n",
              "</div>\n",
              "      <button class=\"colab-df-convert\" onclick=\"convertToInteractive('df-c6d7b6d3-3c3e-423f-b32d-372cab29fa28')\"\n",
              "              title=\"Convert this dataframe to an interactive table.\"\n",
              "              style=\"display:none;\">\n",
              "        \n",
              "  <svg xmlns=\"http://www.w3.org/2000/svg\" height=\"24px\"viewBox=\"0 0 24 24\"\n",
              "       width=\"24px\">\n",
              "    <path d=\"M0 0h24v24H0V0z\" fill=\"none\"/>\n",
              "    <path d=\"M18.56 5.44l.94 2.06.94-2.06 2.06-.94-2.06-.94-.94-2.06-.94 2.06-2.06.94zm-11 1L8.5 8.5l.94-2.06 2.06-.94-2.06-.94L8.5 2.5l-.94 2.06-2.06.94zm10 10l.94 2.06.94-2.06 2.06-.94-2.06-.94-.94-2.06-.94 2.06-2.06.94z\"/><path d=\"M17.41 7.96l-1.37-1.37c-.4-.4-.92-.59-1.43-.59-.52 0-1.04.2-1.43.59L10.3 9.45l-7.72 7.72c-.78.78-.78 2.05 0 2.83L4 21.41c.39.39.9.59 1.41.59.51 0 1.02-.2 1.41-.59l7.78-7.78 2.81-2.81c.8-.78.8-2.07 0-2.86zM5.41 20L4 18.59l7.72-7.72 1.47 1.35L5.41 20z\"/>\n",
              "  </svg>\n",
              "      </button>\n",
              "      \n",
              "  <style>\n",
              "    .colab-df-container {\n",
              "      display:flex;\n",
              "      flex-wrap:wrap;\n",
              "      gap: 12px;\n",
              "    }\n",
              "\n",
              "    .colab-df-convert {\n",
              "      background-color: #E8F0FE;\n",
              "      border: none;\n",
              "      border-radius: 50%;\n",
              "      cursor: pointer;\n",
              "      display: none;\n",
              "      fill: #1967D2;\n",
              "      height: 32px;\n",
              "      padding: 0 0 0 0;\n",
              "      width: 32px;\n",
              "    }\n",
              "\n",
              "    .colab-df-convert:hover {\n",
              "      background-color: #E2EBFA;\n",
              "      box-shadow: 0px 1px 2px rgba(60, 64, 67, 0.3), 0px 1px 3px 1px rgba(60, 64, 67, 0.15);\n",
              "      fill: #174EA6;\n",
              "    }\n",
              "\n",
              "    [theme=dark] .colab-df-convert {\n",
              "      background-color: #3B4455;\n",
              "      fill: #D2E3FC;\n",
              "    }\n",
              "\n",
              "    [theme=dark] .colab-df-convert:hover {\n",
              "      background-color: #434B5C;\n",
              "      box-shadow: 0px 1px 3px 1px rgba(0, 0, 0, 0.15);\n",
              "      filter: drop-shadow(0px 1px 2px rgba(0, 0, 0, 0.3));\n",
              "      fill: #FFFFFF;\n",
              "    }\n",
              "  </style>\n",
              "\n",
              "      <script>\n",
              "        const buttonEl =\n",
              "          document.querySelector('#df-c6d7b6d3-3c3e-423f-b32d-372cab29fa28 button.colab-df-convert');\n",
              "        buttonEl.style.display =\n",
              "          google.colab.kernel.accessAllowed ? 'block' : 'none';\n",
              "\n",
              "        async function convertToInteractive(key) {\n",
              "          const element = document.querySelector('#df-c6d7b6d3-3c3e-423f-b32d-372cab29fa28');\n",
              "          const dataTable =\n",
              "            await google.colab.kernel.invokeFunction('convertToInteractive',\n",
              "                                                     [key], {});\n",
              "          if (!dataTable) return;\n",
              "\n",
              "          const docLinkHtml = 'Like what you see? Visit the ' +\n",
              "            '<a target=\"_blank\" href=https://colab.research.google.com/notebooks/data_table.ipynb>data table notebook</a>'\n",
              "            + ' to learn more about interactive tables.';\n",
              "          element.innerHTML = '';\n",
              "          dataTable['output_type'] = 'display_data';\n",
              "          await google.colab.output.renderOutput(dataTable, element);\n",
              "          const docLink = document.createElement('div');\n",
              "          docLink.innerHTML = docLinkHtml;\n",
              "          element.appendChild(docLink);\n",
              "        }\n",
              "      </script>\n",
              "    </div>\n",
              "  </div>\n",
              "  "
            ]
          },
          "metadata": {},
          "execution_count": 510
        }
      ]
    },
    {
      "cell_type": "markdown",
      "source": [
        "Menghilangkan duplikasi baris"
      ],
      "metadata": {
        "id": "Hd-aP0jhqThS"
      }
    },
    {
      "cell_type": "code",
      "source": [
        "df.shape"
      ],
      "metadata": {
        "colab": {
          "base_uri": "https://localhost:8080/"
        },
        "id": "RfqwhzTEqY_h",
        "outputId": "3e4882b6-7833-41b7-db51-4b0be3efe594"
      },
      "execution_count": 511,
      "outputs": [
        {
          "output_type": "execute_result",
          "data": {
            "text/plain": [
              "(2022, 6)"
            ]
          },
          "metadata": {},
          "execution_count": 511
        }
      ]
    },
    {
      "cell_type": "code",
      "source": [
        "duplicate_rows_df = df[df.duplicated()]\n",
        "print(\"number of duplicate rows: \", duplicate_rows_df.shape)"
      ],
      "metadata": {
        "colab": {
          "base_uri": "https://localhost:8080/"
        },
        "id": "pMlSln0iqbbi",
        "outputId": "b7eb1289-d7c3-4db9-bcee-7d5041754550"
      },
      "execution_count": 512,
      "outputs": [
        {
          "output_type": "stream",
          "name": "stdout",
          "text": [
            "number of duplicate rows:  (4, 6)\n"
          ]
        }
      ]
    },
    {
      "cell_type": "code",
      "source": [
        "df.count()"
      ],
      "metadata": {
        "colab": {
          "base_uri": "https://localhost:8080/"
        },
        "id": "-Qb4J_oYqkFS",
        "outputId": "6c906329-0749-46ab-a877-fdb0a6f1f666"
      },
      "execution_count": 513,
      "outputs": [
        {
          "output_type": "execute_result",
          "data": {
            "text/plain": [
              "Umur          2022\n",
              "Gender        2022\n",
              "Kulit         2022\n",
              "Status        2022\n",
              "Total Hari    2022\n",
              "Stadium       2022\n",
              "dtype: int64"
            ]
          },
          "metadata": {},
          "execution_count": 513
        }
      ]
    },
    {
      "cell_type": "code",
      "source": [
        "df = df.drop_duplicates()\n",
        "df.head(5)"
      ],
      "metadata": {
        "colab": {
          "base_uri": "https://localhost:8080/",
          "height": 206
        },
        "id": "NXvk76itqmlM",
        "outputId": "74184a3e-ca98-4851-a201-2e205c428342"
      },
      "execution_count": 514,
      "outputs": [
        {
          "output_type": "execute_result",
          "data": {
            "text/plain": [
              "     Umur  Gender  Kulit   Status  Total Hari Stadium\n",
              "11    161  Female  White  Current       454.0      IA\n",
              "48    174  Female  White  Current      2428.0     IIB\n",
              "54     67    Male  White   Former       148.0      IV\n",
              "146   168    Male  White   Former       491.0      IA\n",
              "157   165    Male  White   Former       795.0      IA"
            ],
            "text/html": [
              "\n",
              "  <div id=\"df-f6998f6e-7cc4-49cc-a73a-c1b72c2451c0\">\n",
              "    <div class=\"colab-df-container\">\n",
              "      <div>\n",
              "<style scoped>\n",
              "    .dataframe tbody tr th:only-of-type {\n",
              "        vertical-align: middle;\n",
              "    }\n",
              "\n",
              "    .dataframe tbody tr th {\n",
              "        vertical-align: top;\n",
              "    }\n",
              "\n",
              "    .dataframe thead th {\n",
              "        text-align: right;\n",
              "    }\n",
              "</style>\n",
              "<table border=\"1\" class=\"dataframe\">\n",
              "  <thead>\n",
              "    <tr style=\"text-align: right;\">\n",
              "      <th></th>\n",
              "      <th>Umur</th>\n",
              "      <th>Gender</th>\n",
              "      <th>Kulit</th>\n",
              "      <th>Status</th>\n",
              "      <th>Total Hari</th>\n",
              "      <th>Stadium</th>\n",
              "    </tr>\n",
              "  </thead>\n",
              "  <tbody>\n",
              "    <tr>\n",
              "      <th>11</th>\n",
              "      <td>161</td>\n",
              "      <td>Female</td>\n",
              "      <td>White</td>\n",
              "      <td>Current</td>\n",
              "      <td>454.0</td>\n",
              "      <td>IA</td>\n",
              "    </tr>\n",
              "    <tr>\n",
              "      <th>48</th>\n",
              "      <td>174</td>\n",
              "      <td>Female</td>\n",
              "      <td>White</td>\n",
              "      <td>Current</td>\n",
              "      <td>2428.0</td>\n",
              "      <td>IIB</td>\n",
              "    </tr>\n",
              "    <tr>\n",
              "      <th>54</th>\n",
              "      <td>67</td>\n",
              "      <td>Male</td>\n",
              "      <td>White</td>\n",
              "      <td>Former</td>\n",
              "      <td>148.0</td>\n",
              "      <td>IV</td>\n",
              "    </tr>\n",
              "    <tr>\n",
              "      <th>146</th>\n",
              "      <td>168</td>\n",
              "      <td>Male</td>\n",
              "      <td>White</td>\n",
              "      <td>Former</td>\n",
              "      <td>491.0</td>\n",
              "      <td>IA</td>\n",
              "    </tr>\n",
              "    <tr>\n",
              "      <th>157</th>\n",
              "      <td>165</td>\n",
              "      <td>Male</td>\n",
              "      <td>White</td>\n",
              "      <td>Former</td>\n",
              "      <td>795.0</td>\n",
              "      <td>IA</td>\n",
              "    </tr>\n",
              "  </tbody>\n",
              "</table>\n",
              "</div>\n",
              "      <button class=\"colab-df-convert\" onclick=\"convertToInteractive('df-f6998f6e-7cc4-49cc-a73a-c1b72c2451c0')\"\n",
              "              title=\"Convert this dataframe to an interactive table.\"\n",
              "              style=\"display:none;\">\n",
              "        \n",
              "  <svg xmlns=\"http://www.w3.org/2000/svg\" height=\"24px\"viewBox=\"0 0 24 24\"\n",
              "       width=\"24px\">\n",
              "    <path d=\"M0 0h24v24H0V0z\" fill=\"none\"/>\n",
              "    <path d=\"M18.56 5.44l.94 2.06.94-2.06 2.06-.94-2.06-.94-.94-2.06-.94 2.06-2.06.94zm-11 1L8.5 8.5l.94-2.06 2.06-.94-2.06-.94L8.5 2.5l-.94 2.06-2.06.94zm10 10l.94 2.06.94-2.06 2.06-.94-2.06-.94-.94-2.06-.94 2.06-2.06.94z\"/><path d=\"M17.41 7.96l-1.37-1.37c-.4-.4-.92-.59-1.43-.59-.52 0-1.04.2-1.43.59L10.3 9.45l-7.72 7.72c-.78.78-.78 2.05 0 2.83L4 21.41c.39.39.9.59 1.41.59.51 0 1.02-.2 1.41-.59l7.78-7.78 2.81-2.81c.8-.78.8-2.07 0-2.86zM5.41 20L4 18.59l7.72-7.72 1.47 1.35L5.41 20z\"/>\n",
              "  </svg>\n",
              "      </button>\n",
              "      \n",
              "  <style>\n",
              "    .colab-df-container {\n",
              "      display:flex;\n",
              "      flex-wrap:wrap;\n",
              "      gap: 12px;\n",
              "    }\n",
              "\n",
              "    .colab-df-convert {\n",
              "      background-color: #E8F0FE;\n",
              "      border: none;\n",
              "      border-radius: 50%;\n",
              "      cursor: pointer;\n",
              "      display: none;\n",
              "      fill: #1967D2;\n",
              "      height: 32px;\n",
              "      padding: 0 0 0 0;\n",
              "      width: 32px;\n",
              "    }\n",
              "\n",
              "    .colab-df-convert:hover {\n",
              "      background-color: #E2EBFA;\n",
              "      box-shadow: 0px 1px 2px rgba(60, 64, 67, 0.3), 0px 1px 3px 1px rgba(60, 64, 67, 0.15);\n",
              "      fill: #174EA6;\n",
              "    }\n",
              "\n",
              "    [theme=dark] .colab-df-convert {\n",
              "      background-color: #3B4455;\n",
              "      fill: #D2E3FC;\n",
              "    }\n",
              "\n",
              "    [theme=dark] .colab-df-convert:hover {\n",
              "      background-color: #434B5C;\n",
              "      box-shadow: 0px 1px 3px 1px rgba(0, 0, 0, 0.15);\n",
              "      filter: drop-shadow(0px 1px 2px rgba(0, 0, 0, 0.3));\n",
              "      fill: #FFFFFF;\n",
              "    }\n",
              "  </style>\n",
              "\n",
              "      <script>\n",
              "        const buttonEl =\n",
              "          document.querySelector('#df-f6998f6e-7cc4-49cc-a73a-c1b72c2451c0 button.colab-df-convert');\n",
              "        buttonEl.style.display =\n",
              "          google.colab.kernel.accessAllowed ? 'block' : 'none';\n",
              "\n",
              "        async function convertToInteractive(key) {\n",
              "          const element = document.querySelector('#df-f6998f6e-7cc4-49cc-a73a-c1b72c2451c0');\n",
              "          const dataTable =\n",
              "            await google.colab.kernel.invokeFunction('convertToInteractive',\n",
              "                                                     [key], {});\n",
              "          if (!dataTable) return;\n",
              "\n",
              "          const docLinkHtml = 'Like what you see? Visit the ' +\n",
              "            '<a target=\"_blank\" href=https://colab.research.google.com/notebooks/data_table.ipynb>data table notebook</a>'\n",
              "            + ' to learn more about interactive tables.';\n",
              "          element.innerHTML = '';\n",
              "          dataTable['output_type'] = 'display_data';\n",
              "          await google.colab.output.renderOutput(dataTable, element);\n",
              "          const docLink = document.createElement('div');\n",
              "          docLink.innerHTML = docLinkHtml;\n",
              "          element.appendChild(docLink);\n",
              "        }\n",
              "      </script>\n",
              "    </div>\n",
              "  </div>\n",
              "  "
            ]
          },
          "metadata": {},
          "execution_count": 514
        }
      ]
    },
    {
      "cell_type": "code",
      "source": [
        "df.count()"
      ],
      "metadata": {
        "colab": {
          "base_uri": "https://localhost:8080/"
        },
        "id": "L6J1zb5TqqcK",
        "outputId": "8c60e20d-9621-4779-e055-51480c0c92cb"
      },
      "execution_count": 515,
      "outputs": [
        {
          "output_type": "execute_result",
          "data": {
            "text/plain": [
              "Umur          2018\n",
              "Gender        2018\n",
              "Kulit         2018\n",
              "Status        2018\n",
              "Total Hari    2018\n",
              "Stadium       2018\n",
              "dtype: int64"
            ]
          },
          "metadata": {},
          "execution_count": 515
        }
      ]
    },
    {
      "cell_type": "markdown",
      "source": [
        "**Exploratory Data Analysis**"
      ],
      "metadata": {
        "id": "o47m6rwyoqys"
      }
    },
    {
      "cell_type": "markdown",
      "source": [
        "Outlier : Outlier adalah titik atau kumpulan titik data yang terletak jauh dari nilai data lainnya dari kumpulan data."
      ],
      "metadata": {
        "id": "YoMvNPy9vHNr"
      }
    },
    {
      "cell_type": "markdown",
      "source": [
        "Deteksi outliers Umur"
      ],
      "metadata": {
        "id": "zUBciaF3rqGi"
      }
    },
    {
      "cell_type": "code",
      "source": [
        "sns.boxplot(x=df['Umur'])"
      ],
      "metadata": {
        "colab": {
          "base_uri": "https://localhost:8080/",
          "height": 302
        },
        "id": "4swaZKyCq3Oz",
        "outputId": "8850569e-5e0b-4c48-b9c0-89795bc8cc05"
      },
      "execution_count": 516,
      "outputs": [
        {
          "output_type": "execute_result",
          "data": {
            "text/plain": [
              "<matplotlib.axes._subplots.AxesSubplot at 0x7f7ef6c4e0d0>"
            ]
          },
          "metadata": {},
          "execution_count": 516
        },
        {
          "output_type": "display_data",
          "data": {
            "text/plain": [
              "<Figure size 432x288 with 1 Axes>"
            ],
            "image/png": "[encoded data removed]"
          },
          "metadata": {}
        }
      ]
    },
    {
      "cell_type": "markdown",
      "source": [
        "Deteksi outliers Total Hari"
      ],
      "metadata": {
        "id": "DT0kpDBbruIK"
      }
    },
    {
      "cell_type": "code",
      "source": [
        "sns.boxplot(x=df['Total Hari'])"
      ],
      "metadata": {
        "colab": {
          "base_uri": "https://localhost:8080/",
          "height": 302
        },
        "id": "JpblAY67ryMb",
        "outputId": "b5b5688b-5e01-4893-9585-bd3db7f64a8a"
      },
      "execution_count": 517,
      "outputs": [
        {
          "output_type": "execute_result",
          "data": {
            "text/plain": [
              "<matplotlib.axes._subplots.AxesSubplot at 0x7f7ef449d190>"
            ]
          },
          "metadata": {},
          "execution_count": 517
        },
        {
          "output_type": "display_data",
          "data": {
            "text/plain": [
              "<Figure size 432x288 with 1 Axes>"
            ],
            "image/png": "[encoded data removed]"
          },
          "metadata": {}
        }
      ]
    },
    {
      "cell_type": "code",
      "source": [
        "Q1 = df.quantile(0.25)\n",
        "Q3 = df.quantile(0.75)\n",
        "IQR = Q3 - Q1\n",
        "print(IQR)"
      ],
      "metadata": {
        "colab": {
          "base_uri": "https://localhost:8080/"
        },
        "id": "XHqLxJRH-LeY",
        "outputId": "3661269e-8d09-4da5-c5cb-8e35ede4f1de"
      },
      "execution_count": 518,
      "outputs": [
        {
          "output_type": "stream",
          "name": "stdout",
          "text": [
            "Umur             9.0\n",
            "Total Hari    1323.5\n",
            "dtype: float64\n"
          ]
        }
      ]
    },
    {
      "cell_type": "code",
      "source": [
        "df = df[~((df < (Q1 - 1.5 * IQR)) |(df > (Q3 + 1.5 * IQR))).any(axis=1)]\n",
        "df.shape"
      ],
      "metadata": {
        "colab": {
          "base_uri": "https://localhost:8080/"
        },
        "id": "ukkS-aA0-NXH",
        "outputId": "d3110ddb-ddd7-4920-eb63-ba534602c9fc"
      },
      "execution_count": 519,
      "outputs": [
        {
          "output_type": "stream",
          "name": "stderr",
          "text": [
            "<ipython-input-519-f4e1682787c4>:1: FutureWarning: Automatic reindexing on DataFrame vs Series comparisons is deprecated and will raise ValueError in a future version.  Do `left, right = left.align(right, axis=1, copy=False)` before e.g. `left == right`\n",
            "  df = df[~((df < (Q1 - 1.5 * IQR)) |(df > (Q3 + 1.5 * IQR))).any(axis=1)]\n"
          ]
        },
        {
          "output_type": "execute_result",
          "data": {
            "text/plain": [
              "(2010, 6)"
            ]
          },
          "metadata": {},
          "execution_count": 519
        }
      ]
    },
    {
      "cell_type": "markdown",
      "source": [
        "Mengecek Kesimpulan dari central Tendency, dispersi, dan bentuk distribusi dataset (tidak termasuk nilai NaN)"
      ],
      "metadata": {
        "id": "Os2sKvXto8ya"
      }
    },
    {
      "cell_type": "code",
      "source": [
        "df.describe()"
      ],
      "metadata": {
        "colab": {
          "base_uri": "https://localhost:8080/",
          "height": 300
        },
        "id": "UwO9IE1eoyeE",
        "outputId": "6fe3f930-f6ce-4931-b336-69f06d30de74"
      },
      "execution_count": 520,
      "outputs": [
        {
          "output_type": "execute_result",
          "data": {
            "text/plain": [
              "              Umur   Total Hari\n",
              "count  2010.000000  2010.000000\n",
              "mean     63.672637  1049.787562\n",
              "std       5.290872   742.686862\n",
              "min      55.000000     0.000000\n",
              "25%      59.000000   398.500000\n",
              "50%      63.000000   931.000000\n",
              "75%      68.000000  1723.000000\n",
              "max      74.000000  2618.000000"
            ],
            "text/html": [
              "\n",
              "  <div id=\"df-4a5031bf-14da-4966-a8ff-11bb6a59443a\">\n",
              "    <div class=\"colab-df-container\">\n",
              "      <div>\n",
              "<style scoped>\n",
              "    .dataframe tbody tr th:only-of-type {\n",
              "        vertical-align: middle;\n",
              "    }\n",
              "\n",
              "    .dataframe tbody tr th {\n",
              "        vertical-align: top;\n",
              "    }\n",
              "\n",
              "    .dataframe thead th {\n",
              "        text-align: right;\n",
              "    }\n",
              "</style>\n",
              "<table border=\"1\" class=\"dataframe\">\n",
              "  <thead>\n",
              "    <tr style=\"text-align: right;\">\n",
              "      <th></th>\n",
              "      <th>Umur</th>\n",
              "      <th>Total Hari</th>\n",
              "    </tr>\n",
              "  </thead>\n",
              "  <tbody>\n",
              "    <tr>\n",
              "      <th>count</th>\n",
              "      <td>2010.000000</td>\n",
              "      <td>2010.000000</td>\n",
              "    </tr>\n",
              "    <tr>\n",
              "      <th>mean</th>\n",
              "      <td>63.672637</td>\n",
              "      <td>1049.787562</td>\n",
              "    </tr>\n",
              "    <tr>\n",
              "      <th>std</th>\n",
              "      <td>5.290872</td>\n",
              "      <td>742.686862</td>\n",
              "    </tr>\n",
              "    <tr>\n",
              "      <th>min</th>\n",
              "      <td>55.000000</td>\n",
              "      <td>0.000000</td>\n",
              "    </tr>\n",
              "    <tr>\n",
              "      <th>25%</th>\n",
              "      <td>59.000000</td>\n",
              "      <td>398.500000</td>\n",
              "    </tr>\n",
              "    <tr>\n",
              "      <th>50%</th>\n",
              "      <td>63.000000</td>\n",
              "      <td>931.000000</td>\n",
              "    </tr>\n",
              "    <tr>\n",
              "      <th>75%</th>\n",
              "      <td>68.000000</td>\n",
              "      <td>1723.000000</td>\n",
              "    </tr>\n",
              "    <tr>\n",
              "      <th>max</th>\n",
              "      <td>74.000000</td>\n",
              "      <td>2618.000000</td>\n",
              "    </tr>\n",
              "  </tbody>\n",
              "</table>\n",
              "</div>\n",
              "      <button class=\"colab-df-convert\" onclick=\"convertToInteractive('df-4a5031bf-14da-4966-a8ff-11bb6a59443a')\"\n",
              "              title=\"Convert this dataframe to an interactive table.\"\n",
              "              style=\"display:none;\">\n",
              "        \n",
              "  <svg xmlns=\"http://www.w3.org/2000/svg\" height=\"24px\"viewBox=\"0 0 24 24\"\n",
              "       width=\"24px\">\n",
              "    <path d=\"M0 0h24v24H0V0z\" fill=\"none\"/>\n",
              "    <path d=\"M18.56 5.44l.94 2.06.94-2.06 2.06-.94-2.06-.94-.94-2.06-.94 2.06-2.06.94zm-11 1L8.5 8.5l.94-2.06 2.06-.94-2.06-.94L8.5 2.5l-.94 2.06-2.06.94zm10 10l.94 2.06.94-2.06 2.06-.94-2.06-.94-.94-2.06-.94 2.06-2.06.94z\"/><path d=\"M17.41 7.96l-1.37-1.37c-.4-.4-.92-.59-1.43-.59-.52 0-1.04.2-1.43.59L10.3 9.45l-7.72 7.72c-.78.78-.78 2.05 0 2.83L4 21.41c.39.39.9.59 1.41.59.51 0 1.02-.2 1.41-.59l7.78-7.78 2.81-2.81c.8-.78.8-2.07 0-2.86zM5.41 20L4 18.59l7.72-7.72 1.47 1.35L5.41 20z\"/>\n",
              "  </svg>\n",
              "      </button>\n",
              "      \n",
              "  <style>\n",
              "    .colab-df-container {\n",
              "      display:flex;\n",
              "      flex-wrap:wrap;\n",
              "      gap: 12px;\n",
              "    }\n",
              "\n",
              "    .colab-df-convert {\n",
              "      background-color: #E8F0FE;\n",
              "      border: none;\n",
              "      border-radius: 50%;\n",
              "      cursor: pointer;\n",
              "      display: none;\n",
              "      fill: #1967D2;\n",
              "      height: 32px;\n",
              "      padding: 0 0 0 0;\n",
              "      width: 32px;\n",
              "    }\n",
              "\n",
              "    .colab-df-convert:hover {\n",
              "      background-color: #E2EBFA;\n",
              "      box-shadow: 0px 1px 2px rgba(60, 64, 67, 0.3), 0px 1px 3px 1px rgba(60, 64, 67, 0.15);\n",
              "      fill: #174EA6;\n",
              "    }\n",
              "\n",
              "    [theme=dark] .colab-df-convert {\n",
              "      background-color: #3B4455;\n",
              "      fill: #D2E3FC;\n",
              "    }\n",
              "\n",
              "    [theme=dark] .colab-df-convert:hover {\n",
              "      background-color: #434B5C;\n",
              "      box-shadow: 0px 1px 3px 1px rgba(0, 0, 0, 0.15);\n",
              "      filter: drop-shadow(0px 1px 2px rgba(0, 0, 0, 0.3));\n",
              "      fill: #FFFFFF;\n",
              "    }\n",
              "  </style>\n",
              "\n",
              "      <script>\n",
              "        const buttonEl =\n",
              "          document.querySelector('#df-4a5031bf-14da-4966-a8ff-11bb6a59443a button.colab-df-convert');\n",
              "        buttonEl.style.display =\n",
              "          google.colab.kernel.accessAllowed ? 'block' : 'none';\n",
              "\n",
              "        async function convertToInteractive(key) {\n",
              "          const element = document.querySelector('#df-4a5031bf-14da-4966-a8ff-11bb6a59443a');\n",
              "          const dataTable =\n",
              "            await google.colab.kernel.invokeFunction('convertToInteractive',\n",
              "                                                     [key], {});\n",
              "          if (!dataTable) return;\n",
              "\n",
              "          const docLinkHtml = 'Like what you see? Visit the ' +\n",
              "            '<a target=\"_blank\" href=https://colab.research.google.com/notebooks/data_table.ipynb>data table notebook</a>'\n",
              "            + ' to learn more about interactive tables.';\n",
              "          element.innerHTML = '';\n",
              "          dataTable['output_type'] = 'display_data';\n",
              "          await google.colab.output.renderOutput(dataTable, element);\n",
              "          const docLink = document.createElement('div');\n",
              "          docLink.innerHTML = docLinkHtml;\n",
              "          element.appendChild(docLink);\n",
              "        }\n",
              "      </script>\n",
              "    </div>\n",
              "  </div>\n",
              "  "
            ]
          },
          "metadata": {},
          "execution_count": 520
        }
      ]
    },
    {
      "cell_type": "markdown",
      "source": [
        "Mengecek ringkasan info dari data berupa tipe indeks dan kolom, nilai non-null, dan penggunaan memori"
      ],
      "metadata": {
        "id": "Yt4lGeXRpKh7"
      }
    },
    {
      "cell_type": "code",
      "source": [
        "df.info()"
      ],
      "metadata": {
        "colab": {
          "base_uri": "https://localhost:8080/"
        },
        "id": "TAPj0yeppJWI",
        "outputId": "72a253c8-a053-448b-e94e-3ee6036441a4"
      },
      "execution_count": 521,
      "outputs": [
        {
          "output_type": "stream",
          "name": "stdout",
          "text": [
            "<class 'pandas.core.frame.DataFrame'>\n",
            "Int64Index: 2010 entries, 54 to 53418\n",
            "Data columns (total 6 columns):\n",
            " #   Column      Non-Null Count  Dtype  \n",
            "---  ------      --------------  -----  \n",
            " 0   Umur        2010 non-null   int64  \n",
            " 1   Gender      2010 non-null   object \n",
            " 2   Kulit       2010 non-null   object \n",
            " 3   Status      2010 non-null   object \n",
            " 4   Total Hari  2010 non-null   float64\n",
            " 5   Stadium     2010 non-null   object \n",
            "dtypes: float64(1), int64(1), object(4)\n",
            "memory usage: 109.9+ KB\n"
          ]
        }
      ]
    },
    {
      "cell_type": "markdown",
      "source": [
        "Mencari rata-rata dari semua titik data sebelum proses EDA"
      ],
      "metadata": {
        "id": "SJCiTzEVpO_a"
      }
    },
    {
      "cell_type": "code",
      "source": [
        "df.mean()"
      ],
      "metadata": {
        "colab": {
          "base_uri": "https://localhost:8080/"
        },
        "id": "zNlpcYodpN9e",
        "outputId": "ac340437-5e08-4e59-9eba-a2ce6a5e1c55"
      },
      "execution_count": 522,
      "outputs": [
        {
          "output_type": "stream",
          "name": "stderr",
          "text": [
            "<ipython-input-522-c61f0c8f89b5>:1: FutureWarning: Dropping of nuisance columns in DataFrame reductions (with 'numeric_only=None') is deprecated; in a future version this will raise TypeError.  Select only valid columns before calling the reduction.\n",
            "  df.mean()\n"
          ]
        },
        {
          "output_type": "execute_result",
          "data": {
            "text/plain": [
              "Umur            63.672637\n",
              "Total Hari    1049.787562\n",
              "dtype: float64"
            ]
          },
          "metadata": {},
          "execution_count": 522
        }
      ]
    },
    {
      "cell_type": "markdown",
      "source": [
        "Mencari nilai median yakni nilai tengah"
      ],
      "metadata": {
        "id": "7iEoeT6OpWpZ"
      }
    },
    {
      "cell_type": "code",
      "source": [
        "df.median()"
      ],
      "metadata": {
        "colab": {
          "base_uri": "https://localhost:8080/"
        },
        "id": "70hysggppRb6",
        "outputId": "9115a4d5-954c-4508-8f47-090831370571"
      },
      "execution_count": 523,
      "outputs": [
        {
          "output_type": "stream",
          "name": "stderr",
          "text": [
            "<ipython-input-523-6d467abf240d>:1: FutureWarning: Dropping of nuisance columns in DataFrame reductions (with 'numeric_only=None') is deprecated; in a future version this will raise TypeError.  Select only valid columns before calling the reduction.\n",
            "  df.median()\n"
          ]
        },
        {
          "output_type": "execute_result",
          "data": {
            "text/plain": [
              "Umur           63.0\n",
              "Total Hari    931.0\n",
              "dtype: float64"
            ]
          },
          "metadata": {},
          "execution_count": 523
        }
      ]
    },
    {
      "cell_type": "markdown",
      "source": [
        "Mencari nilai modus yakni titik data yang paling banyak muncul sebelum proses EDA"
      ],
      "metadata": {
        "id": "9-HzzmgVpZQq"
      }
    },
    {
      "cell_type": "code",
      "source": [
        "df.mode()"
      ],
      "metadata": {
        "colab": {
          "base_uri": "https://localhost:8080/",
          "height": 81
        },
        "id": "vSBF68iEpUh7",
        "outputId": "3031558c-37f7-4881-f333-458ca2780348"
      },
      "execution_count": 524,
      "outputs": [
        {
          "output_type": "execute_result",
          "data": {
            "text/plain": [
              "   Umur Gender  Kulit   Status  Total Hari Stadium\n",
              "0    61   Male  White  Current        98.0      IA"
            ],
            "text/html": [
              "\n",
              "  <div id=\"df-5eb74cce-7967-4262-babe-9a905f7842df\">\n",
              "    <div class=\"colab-df-container\">\n",
              "      <div>\n",
              "<style scoped>\n",
              "    .dataframe tbody tr th:only-of-type {\n",
              "        vertical-align: middle;\n",
              "    }\n",
              "\n",
              "    .dataframe tbody tr th {\n",
              "        vertical-align: top;\n",
              "    }\n",
              "\n",
              "    .dataframe thead th {\n",
              "        text-align: right;\n",
              "    }\n",
              "</style>\n",
              "<table border=\"1\" class=\"dataframe\">\n",
              "  <thead>\n",
              "    <tr style=\"text-align: right;\">\n",
              "      <th></th>\n",
              "      <th>Umur</th>\n",
              "      <th>Gender</th>\n",
              "      <th>Kulit</th>\n",
              "      <th>Status</th>\n",
              "      <th>Total Hari</th>\n",
              "      <th>Stadium</th>\n",
              "    </tr>\n",
              "  </thead>\n",
              "  <tbody>\n",
              "    <tr>\n",
              "      <th>0</th>\n",
              "      <td>61</td>\n",
              "      <td>Male</td>\n",
              "      <td>White</td>\n",
              "      <td>Current</td>\n",
              "      <td>98.0</td>\n",
              "      <td>IA</td>\n",
              "    </tr>\n",
              "  </tbody>\n",
              "</table>\n",
              "</div>\n",
              "      <button class=\"colab-df-convert\" onclick=\"convertToInteractive('df-5eb74cce-7967-4262-babe-9a905f7842df')\"\n",
              "              title=\"Convert this dataframe to an interactive table.\"\n",
              "              style=\"display:none;\">\n",
              "        \n",
              "  <svg xmlns=\"http://www.w3.org/2000/svg\" height=\"24px\"viewBox=\"0 0 24 24\"\n",
              "       width=\"24px\">\n",
              "    <path d=\"M0 0h24v24H0V0z\" fill=\"none\"/>\n",
              "    <path d=\"M18.56 5.44l.94 2.06.94-2.06 2.06-.94-2.06-.94-.94-2.06-.94 2.06-2.06.94zm-11 1L8.5 8.5l.94-2.06 2.06-.94-2.06-.94L8.5 2.5l-.94 2.06-2.06.94zm10 10l.94 2.06.94-2.06 2.06-.94-2.06-.94-.94-2.06-.94 2.06-2.06.94z\"/><path d=\"M17.41 7.96l-1.37-1.37c-.4-.4-.92-.59-1.43-.59-.52 0-1.04.2-1.43.59L10.3 9.45l-7.72 7.72c-.78.78-.78 2.05 0 2.83L4 21.41c.39.39.9.59 1.41.59.51 0 1.02-.2 1.41-.59l7.78-7.78 2.81-2.81c.8-.78.8-2.07 0-2.86zM5.41 20L4 18.59l7.72-7.72 1.47 1.35L5.41 20z\"/>\n",
              "  </svg>\n",
              "      </button>\n",
              "      \n",
              "  <style>\n",
              "    .colab-df-container {\n",
              "      display:flex;\n",
              "      flex-wrap:wrap;\n",
              "      gap: 12px;\n",
              "    }\n",
              "\n",
              "    .colab-df-convert {\n",
              "      background-color: #E8F0FE;\n",
              "      border: none;\n",
              "      border-radius: 50%;\n",
              "      cursor: pointer;\n",
              "      display: none;\n",
              "      fill: #1967D2;\n",
              "      height: 32px;\n",
              "      padding: 0 0 0 0;\n",
              "      width: 32px;\n",
              "    }\n",
              "\n",
              "    .colab-df-convert:hover {\n",
              "      background-color: #E2EBFA;\n",
              "      box-shadow: 0px 1px 2px rgba(60, 64, 67, 0.3), 0px 1px 3px 1px rgba(60, 64, 67, 0.15);\n",
              "      fill: #174EA6;\n",
              "    }\n",
              "\n",
              "    [theme=dark] .colab-df-convert {\n",
              "      background-color: #3B4455;\n",
              "      fill: #D2E3FC;\n",
              "    }\n",
              "\n",
              "    [theme=dark] .colab-df-convert:hover {\n",
              "      background-color: #434B5C;\n",
              "      box-shadow: 0px 1px 3px 1px rgba(0, 0, 0, 0.15);\n",
              "      filter: drop-shadow(0px 1px 2px rgba(0, 0, 0, 0.3));\n",
              "      fill: #FFFFFF;\n",
              "    }\n",
              "  </style>\n",
              "\n",
              "      <script>\n",
              "        const buttonEl =\n",
              "          document.querySelector('#df-5eb74cce-7967-4262-babe-9a905f7842df button.colab-df-convert');\n",
              "        buttonEl.style.display =\n",
              "          google.colab.kernel.accessAllowed ? 'block' : 'none';\n",
              "\n",
              "        async function convertToInteractive(key) {\n",
              "          const element = document.querySelector('#df-5eb74cce-7967-4262-babe-9a905f7842df');\n",
              "          const dataTable =\n",
              "            await google.colab.kernel.invokeFunction('convertToInteractive',\n",
              "                                                     [key], {});\n",
              "          if (!dataTable) return;\n",
              "\n",
              "          const docLinkHtml = 'Like what you see? Visit the ' +\n",
              "            '<a target=\"_blank\" href=https://colab.research.google.com/notebooks/data_table.ipynb>data table notebook</a>'\n",
              "            + ' to learn more about interactive tables.';\n",
              "          element.innerHTML = '';\n",
              "          dataTable['output_type'] = 'display_data';\n",
              "          await google.colab.output.renderOutput(dataTable, element);\n",
              "          const docLink = document.createElement('div');\n",
              "          docLink.innerHTML = docLinkHtml;\n",
              "          element.appendChild(docLink);\n",
              "        }\n",
              "      </script>\n",
              "    </div>\n",
              "  </div>\n",
              "  "
            ]
          },
          "metadata": {},
          "execution_count": 524
        }
      ]
    },
    {
      "cell_type": "markdown",
      "source": [
        "Mencari varian yakni rata-rata kuadrat dari deviasi individu sebelum proses EDA"
      ],
      "metadata": {
        "id": "4MFR9aRUpiXB"
      }
    },
    {
      "cell_type": "code",
      "source": [
        "df.var()"
      ],
      "metadata": {
        "colab": {
          "base_uri": "https://localhost:8080/"
        },
        "id": "8__CEe04pbpY",
        "outputId": "776579ff-d04e-4728-8089-43ddbbe0414a"
      },
      "execution_count": 525,
      "outputs": [
        {
          "output_type": "stream",
          "name": "stderr",
          "text": [
            "<ipython-input-525-28ded241fd7c>:1: FutureWarning: Dropping of nuisance columns in DataFrame reductions (with 'numeric_only=None') is deprecated; in a future version this will raise TypeError.  Select only valid columns before calling the reduction.\n",
            "  df.var()\n"
          ]
        },
        {
          "output_type": "execute_result",
          "data": {
            "text/plain": [
              "Umur              27.993328\n",
              "Total Hari    551583.775156\n",
              "dtype: float64"
            ]
          },
          "metadata": {},
          "execution_count": 525
        }
      ]
    },
    {
      "cell_type": "markdown",
      "source": [
        "Mencari Standar Deviasi yakni simpangan baku atau akar kuadrat dari varians sebelum proses EDA"
      ],
      "metadata": {
        "id": "eizwh3HDpkOx"
      }
    },
    {
      "cell_type": "code",
      "source": [
        "df.std()"
      ],
      "metadata": {
        "colab": {
          "base_uri": "https://localhost:8080/"
        },
        "id": "lpqlRc4VphEt",
        "outputId": "379db87d-19cb-417a-c491-e157a62ee16e"
      },
      "execution_count": 526,
      "outputs": [
        {
          "output_type": "stream",
          "name": "stderr",
          "text": [
            "<ipython-input-526-ce97bb7eaef8>:1: FutureWarning: Dropping of nuisance columns in DataFrame reductions (with 'numeric_only=None') is deprecated; in a future version this will raise TypeError.  Select only valid columns before calling the reduction.\n",
            "  df.std()\n"
          ]
        },
        {
          "output_type": "execute_result",
          "data": {
            "text/plain": [
              "Umur            5.290872\n",
              "Total Hari    742.686862\n",
              "dtype: float64"
            ]
          },
          "metadata": {},
          "execution_count": 526
        }
      ]
    },
    {
      "cell_type": "markdown",
      "source": [
        "Mencari Kecondongan Data (Skewnes) sebelum proses EDA"
      ],
      "metadata": {
        "id": "RVn7z1WCpori"
      }
    },
    {
      "cell_type": "code",
      "source": [
        "df.skew()"
      ],
      "metadata": {
        "colab": {
          "base_uri": "https://localhost:8080/"
        },
        "id": "Panve1lrpodw",
        "outputId": "d381c757-b6be-49a1-83a3-cf93b2b90214"
      },
      "execution_count": 527,
      "outputs": [
        {
          "output_type": "stream",
          "name": "stderr",
          "text": [
            "<ipython-input-527-9e0b1e29546f>:1: FutureWarning: Dropping of nuisance columns in DataFrame reductions (with 'numeric_only=None') is deprecated; in a future version this will raise TypeError.  Select only valid columns before calling the reduction.\n",
            "  df.skew()\n"
          ]
        },
        {
          "output_type": "execute_result",
          "data": {
            "text/plain": [
              "Umur          0.161181\n",
              "Total Hari    0.203153\n",
              "dtype: float64"
            ]
          },
          "metadata": {},
          "execution_count": 527
        }
      ]
    },
    {
      "cell_type": "markdown",
      "source": [
        "**VISUALISASI DATA**"
      ],
      "metadata": {
        "id": "Qqt3Or96Wh0v"
      }
    },
    {
      "cell_type": "markdown",
      "source": [
        "Menggunakan matplotlib"
      ],
      "metadata": {
        "id": "ekjXbwHSZ5L4"
      }
    },
    {
      "cell_type": "code",
      "source": [
        "col_A = df['Umur']\n",
        "umur_array = col_A.to_numpy()\n",
        "# umur_array = sorted(umur_array)\n",
        "\n",
        "col_B = df['Status']\n",
        "status_array = col_B.to_numpy()\n",
        "\n",
        "col_C = df['Total Hari']\n",
        "hari_array = col_C.to_numpy()\n",
        "# hari_array = sorted(hari_array)\n",
        "\n",
        "col_D = df['Kulit']\n",
        "kulit_array = col_D.to_numpy()\n",
        "\n",
        "col_E = df['Gender']\n",
        "gender_array = col_E.to_numpy()\n",
        "\n",
        "print(umur_array)\n",
        "print(status_array)\n",
        "print(hari_array)\n",
        "print(kulit_array)\n",
        "print(gender_array)"
      ],
      "metadata": {
        "colab": {
          "base_uri": "https://localhost:8080/"
        },
        "id": "cHy-39WkaaRe",
        "outputId": "dd4c9639-4e50-469d-c4e4-6a2d1b53b9b6"
      },
      "execution_count": 528,
      "outputs": [
        {
          "output_type": "stream",
          "name": "stdout",
          "text": [
            "[67 69 60 ... 56 61 57]\n",
            "['Former' 'Current' 'Current' ... 'Current' 'Former' 'Former']\n",
            "[ 148.  524.  456. ... 1077. 1632. 2144.]\n",
            "['White' 'White' 'White' ... 'White' 'White' 'White']\n",
            "['Male' 'Male' 'Female' ... 'Male' 'Male' 'Female']\n"
          ]
        }
      ]
    },
    {
      "cell_type": "code",
      "source": [
        "a = df.groupby(['Kulit']).mean()[['Umur']].reset_index()\n",
        "fig = plt.figure(figsize=(10,8))\n",
        "ax = plt.axes()\n",
        "ax.bar(a['Kulit'],a['Umur'], color=['red','yellow','green','blue','purple','black','orange'])\n",
        "plt.xticks(rotation=90)\n",
        "\n",
        "plt.title(\"Grafik Umur & Gender\")\n",
        "plt.ylabel(\"Umur\")\n",
        "plt.show()"
      ],
      "metadata": {
        "id": "NY4850UzWmPH",
        "colab": {
          "base_uri": "https://localhost:8080/",
          "height": 718
        },
        "outputId": "061ba234-d630-4fac-9a75-16c6dcea1d42"
      },
      "execution_count": 530,
      "outputs": [
        {
          "output_type": "display_data",
          "data": {
            "text/plain": [
              "<Figure size 720x576 with 1 Axes>"
            ],
            "image/png": "[encoded data removed]"
          },
          "metadata": {}
        }
      ]
    },
    {
      "cell_type": "code",
      "source": [
        "a = df.groupby(['Stadium']).mean()[['Total Hari']].reset_index()\n",
        "fig = plt.figure(figsize=(10,8))\n",
        "ax = plt.axes()\n",
        "ax.bar(a['Stadium'],a['Total Hari'])\n",
        "plt.xticks(rotation=90)\n",
        "\n",
        "plt.title(\"Grafik Total Hari & Stadium\")\n",
        "plt.ylabel(\"Total Hari\")\n",
        "plt.show()"
      ],
      "metadata": {
        "colab": {
          "base_uri": "https://localhost:8080/",
          "height": 509
        },
        "id": "rUHKQGnWncnn",
        "outputId": "9fe71394-27c2-41f7-d833-b24faadae912"
      },
      "execution_count": 531,
      "outputs": [
        {
          "output_type": "display_data",
          "data": {
            "text/plain": [
              "<Figure size 720x576 with 1 Axes>"
            ],
            "image/png": "[encoded data removed]"
          },
          "metadata": {}
        }
      ]
    },
    {
      "cell_type": "code",
      "source": [
        "countStad = df[\"Stadium\"].value_counts()\n",
        "\n",
        "countStat = df[\"Status\"].value_counts()\n",
        "\n",
        "countStas = df[\"Kulit\"].value_counts()\n",
        "\n",
        "print(countStad)\n",
        "print(countStat)\n",
        "print(countStas)"
      ],
      "metadata": {
        "colab": {
          "base_uri": "https://localhost:8080/"
        },
        "id": "-6nqSS3OqdT9",
        "outputId": "a6150826-40df-4c8b-f9a2-531b4d5d00b9"
      },
      "execution_count": 532,
      "outputs": [
        {
          "output_type": "stream",
          "name": "stdout",
          "text": [
            "IA      611\n",
            "IV      588\n",
            "IIIB    243\n",
            "IIIA    213\n",
            "IB      210\n",
            "IIB      78\n",
            "IIA      67\n",
            "Name: Stadium, dtype: int64\n",
            "Current    1213\n",
            "Former      797\n",
            "Name: Status, dtype: int64\n",
            "White                                        1838\n",
            "Black or African-American                     101\n",
            "Asian                                          36\n",
            "More than one race                             21\n",
            "American Indian or Alaskan Native              10\n",
            "Native Hawaiian or Other Pacific Islander       4\n",
            "Name: Kulit, dtype: int64\n"
          ]
        }
      ]
    },
    {
      "cell_type": "code",
      "source": [
        "valueStadium = list(countStad)\n",
        "gradeStadium = [\"IA\",\"IV\",\"IIB\",\"IIA\",\"IB\",\"IIB\",\"IIA\"]\n",
        "plt.pie(valueStadium, labels = gradeStadium, autopct='%2.1f%%')\n",
        "plt.show()"
      ],
      "metadata": {
        "colab": {
          "base_uri": "https://localhost:8080/",
          "height": 248
        },
        "id": "i3ZKBuX0vlxr",
        "outputId": "852e3849-398c-418f-e49d-0c5080ad1299"
      },
      "execution_count": 533,
      "outputs": [
        {
          "output_type": "display_data",
          "data": {
            "text/plain": [
              "<Figure size 432x288 with 1 Axes>"
            ],
            "image/png": "[encoded data removed]"
          },
          "metadata": {}
        }
      ]
    },
    {
      "cell_type": "code",
      "source": [
        "valueStadium = list(countStat)\n",
        "gradeStadium = [\"Current\",\"Former\"]\n",
        "plt.pie(valueStadium, labels = gradeStadium, autopct='%2.1f%%')\n",
        "plt.show()"
      ],
      "metadata": {
        "colab": {
          "base_uri": "https://localhost:8080/",
          "height": 248
        },
        "id": "Zj0jsOtFzC-z",
        "outputId": "f024f9e3-2f42-47a2-8798-a3960899ebde"
      },
      "execution_count": 534,
      "outputs": [
        {
          "output_type": "display_data",
          "data": {
            "text/plain": [
              "<Figure size 432x288 with 1 Axes>"
            ],
            "image/png": "[encoded data removed]"
          },
          "metadata": {}
        }
      ]
    },
    {
      "cell_type": "markdown",
      "source": [
        "**PEMODELAN ALGORITMA PREDIKTIF MENGGUNAKAN K-NEAREST NEIGHBORS**"
      ],
      "metadata": {
        "id": "gGWLF1E_vJXD"
      }
    },
    {
      "cell_type": "code",
      "source": [
        "encode_file = df.replace({\n",
        "    \"Gender\":{\n",
        "        \"Male\":0,\n",
        "        \"Female\":1\n",
        "        },\n",
        "    \"Kulit\":{\n",
        "        \"White\":0,\n",
        "        \"Black or African-American\":1,\n",
        "        \"American Indian or Alaskan Native\":2,\n",
        "        \"More than one race\":3,\n",
        "        \"Asian\":4,\n",
        "        \"Native Hawaiian or Other Pacific Islander\":5\n",
        "        },\n",
        "    \"Status\":{\n",
        "        \"Current\":0,\n",
        "        \"Former\":1\n",
        "        },\n",
        "    \"Stadium\":{\n",
        "        \"IA\":0,\n",
        "        \"IB\":1,\n",
        "        \"IIA\":2,\n",
        "        \"IIB\":3,\n",
        "        \"IIIA\":4,\n",
        "        \"IIIB\":5,\n",
        "        \"IV\":6\n",
        "    }\n",
        "      })"
      ],
      "metadata": {
        "id": "rhzn9WcOwMlp"
      },
      "execution_count": 535,
      "outputs": []
    },
    {
      "cell_type": "code",
      "source": [
        "encode_file"
      ],
      "metadata": {
        "colab": {
          "base_uri": "https://localhost:8080/",
          "height": 424
        },
        "id": "SH1zaR8UxHSn",
        "outputId": "c95b9261-7662-46f0-90dd-a571a8b1cd2e"
      },
      "execution_count": 536,
      "outputs": [
        {
          "output_type": "execute_result",
          "data": {
            "text/plain": [
              "       Umur  Gender  Kulit  Status  Total Hari  Stadium\n",
              "54       67       0      0       1       148.0        6\n",
              "263      69       0      0       0       524.0        6\n",
              "279      60       1      0       0       456.0        0\n",
              "291      68       0      0       0       734.0        0\n",
              "322      65       0      0       0       557.0        6\n",
              "...     ...     ...    ...     ...         ...      ...\n",
              "53356    60       1      0       1        27.0        1\n",
              "53366    69       1      0       0        71.0        0\n",
              "53370    56       0      0       0      1077.0        6\n",
              "53405    61       0      0       1      1632.0        6\n",
              "53418    57       1      0       1      2144.0        0\n",
              "\n",
              "[2010 rows x 6 columns]"
            ],
            "text/html": [
              "\n",
              "  <div id=\"df-348a3491-9b73-454a-8db9-a90ecdac007d\">\n",
              "    <div class=\"colab-df-container\">\n",
              "      <div>\n",
              "<style scoped>\n",
              "    .dataframe tbody tr th:only-of-type {\n",
              "        vertical-align: middle;\n",
              "    }\n",
              "\n",
              "    .dataframe tbody tr th {\n",
              "        vertical-align: top;\n",
              "    }\n",
              "\n",
              "    .dataframe thead th {\n",
              "        text-align: right;\n",
              "    }\n",
              "</style>\n",
              "<table border=\"1\" class=\"dataframe\">\n",
              "  <thead>\n",
              "    <tr style=\"text-align: right;\">\n",
              "      <th></th>\n",
              "      <th>Umur</th>\n",
              "      <th>Gender</th>\n",
              "      <th>Kulit</th>\n",
              "      <th>Status</th>\n",
              "      <th>Total Hari</th>\n",
              "      <th>Stadium</th>\n",
              "    </tr>\n",
              "  </thead>\n",
              "  <tbody>\n",
              "    <tr>\n",
              "      <th>54</th>\n",
              "      <td>67</td>\n",
              "      <td>0</td>\n",
              "      <td>0</td>\n",
              "      <td>1</td>\n",
              "      <td>148.0</td>\n",
              "      <td>6</td>\n",
              "    </tr>\n",
              "    <tr>\n",
              "      <th>263</th>\n",
              "      <td>69</td>\n",
              "      <td>0</td>\n",
              "      <td>0</td>\n",
              "      <td>0</td>\n",
              "      <td>524.0</td>\n",
              "      <td>6</td>\n",
              "    </tr>\n",
              "    <tr>\n",
              "      <th>279</th>\n",
              "      <td>60</td>\n",
              "      <td>1</td>\n",
              "      <td>0</td>\n",
              "      <td>0</td>\n",
              "      <td>456.0</td>\n",
              "      <td>0</td>\n",
              "    </tr>\n",
              "    <tr>\n",
              "      <th>291</th>\n",
              "      <td>68</td>\n",
              "      <td>0</td>\n",
              "      <td>0</td>\n",
              "      <td>0</td>\n",
              "      <td>734.0</td>\n",
              "      <td>0</td>\n",
              "    </tr>\n",
              "    <tr>\n",
              "      <th>322</th>\n",
              "      <td>65</td>\n",
              "      <td>0</td>\n",
              "      <td>0</td>\n",
              "      <td>0</td>\n",
              "      <td>557.0</td>\n",
              "      <td>6</td>\n",
              "    </tr>\n",
              "    <tr>\n",
              "      <th>...</th>\n",
              "      <td>...</td>\n",
              "      <td>...</td>\n",
              "      <td>...</td>\n",
              "      <td>...</td>\n",
              "      <td>...</td>\n",
              "      <td>...</td>\n",
              "    </tr>\n",
              "    <tr>\n",
              "      <th>53356</th>\n",
              "      <td>60</td>\n",
              "      <td>1</td>\n",
              "      <td>0</td>\n",
              "      <td>1</td>\n",
              "      <td>27.0</td>\n",
              "      <td>1</td>\n",
              "    </tr>\n",
              "    <tr>\n",
              "      <th>53366</th>\n",
              "      <td>69</td>\n",
              "      <td>1</td>\n",
              "      <td>0</td>\n",
              "      <td>0</td>\n",
              "      <td>71.0</td>\n",
              "      <td>0</td>\n",
              "    </tr>\n",
              "    <tr>\n",
              "      <th>53370</th>\n",
              "      <td>56</td>\n",
              "      <td>0</td>\n",
              "      <td>0</td>\n",
              "      <td>0</td>\n",
              "      <td>1077.0</td>\n",
              "      <td>6</td>\n",
              "    </tr>\n",
              "    <tr>\n",
              "      <th>53405</th>\n",
              "      <td>61</td>\n",
              "      <td>0</td>\n",
              "      <td>0</td>\n",
              "      <td>1</td>\n",
              "      <td>1632.0</td>\n",
              "      <td>6</td>\n",
              "    </tr>\n",
              "    <tr>\n",
              "      <th>53418</th>\n",
              "      <td>57</td>\n",
              "      <td>1</td>\n",
              "      <td>0</td>\n",
              "      <td>1</td>\n",
              "      <td>2144.0</td>\n",
              "      <td>0</td>\n",
              "    </tr>\n",
              "  </tbody>\n",
              "</table>\n",
              "<p>2010 rows × 6 columns</p>\n",
              "</div>\n",
              "      <button class=\"colab-df-convert\" onclick=\"convertToInteractive('df-348a3491-9b73-454a-8db9-a90ecdac007d')\"\n",
              "              title=\"Convert this dataframe to an interactive table.\"\n",
              "              style=\"display:none;\">\n",
              "        \n",
              "  <svg xmlns=\"http://www.w3.org/2000/svg\" height=\"24px\"viewBox=\"0 0 24 24\"\n",
              "       width=\"24px\">\n",
              "    <path d=\"M0 0h24v24H0V0z\" fill=\"none\"/>\n",
              "    <path d=\"M18.56 5.44l.94 2.06.94-2.06 2.06-.94-2.06-.94-.94-2.06-.94 2.06-2.06.94zm-11 1L8.5 8.5l.94-2.06 2.06-.94-2.06-.94L8.5 2.5l-.94 2.06-2.06.94zm10 10l.94 2.06.94-2.06 2.06-.94-2.06-.94-.94-2.06-.94 2.06-2.06.94z\"/><path d=\"M17.41 7.96l-1.37-1.37c-.4-.4-.92-.59-1.43-.59-.52 0-1.04.2-1.43.59L10.3 9.45l-7.72 7.72c-.78.78-.78 2.05 0 2.83L4 21.41c.39.39.9.59 1.41.59.51 0 1.02-.2 1.41-.59l7.78-7.78 2.81-2.81c.8-.78.8-2.07 0-2.86zM5.41 20L4 18.59l7.72-7.72 1.47 1.35L5.41 20z\"/>\n",
              "  </svg>\n",
              "      </button>\n",
              "      \n",
              "  <style>\n",
              "    .colab-df-container {\n",
              "      display:flex;\n",
              "      flex-wrap:wrap;\n",
              "      gap: 12px;\n",
              "    }\n",
              "\n",
              "    .colab-df-convert {\n",
              "      background-color: #E8F0FE;\n",
              "      border: none;\n",
              "      border-radius: 50%;\n",
              "      cursor: pointer;\n",
              "      display: none;\n",
              "      fill: #1967D2;\n",
              "      height: 32px;\n",
              "      padding: 0 0 0 0;\n",
              "      width: 32px;\n",
              "    }\n",
              "\n",
              "    .colab-df-convert:hover {\n",
              "      background-color: #E2EBFA;\n",
              "      box-shadow: 0px 1px 2px rgba(60, 64, 67, 0.3), 0px 1px 3px 1px rgba(60, 64, 67, 0.15);\n",
              "      fill: #174EA6;\n",
              "    }\n",
              "\n",
              "    [theme=dark] .colab-df-convert {\n",
              "      background-color: #3B4455;\n",
              "      fill: #D2E3FC;\n",
              "    }\n",
              "\n",
              "    [theme=dark] .colab-df-convert:hover {\n",
              "      background-color: #434B5C;\n",
              "      box-shadow: 0px 1px 3px 1px rgba(0, 0, 0, 0.15);\n",
              "      filter: drop-shadow(0px 1px 2px rgba(0, 0, 0, 0.3));\n",
              "      fill: #FFFFFF;\n",
              "    }\n",
              "  </style>\n",
              "\n",
              "      <script>\n",
              "        const buttonEl =\n",
              "          document.querySelector('#df-348a3491-9b73-454a-8db9-a90ecdac007d button.colab-df-convert');\n",
              "        buttonEl.style.display =\n",
              "          google.colab.kernel.accessAllowed ? 'block' : 'none';\n",
              "\n",
              "        async function convertToInteractive(key) {\n",
              "          const element = document.querySelector('#df-348a3491-9b73-454a-8db9-a90ecdac007d');\n",
              "          const dataTable =\n",
              "            await google.colab.kernel.invokeFunction('convertToInteractive',\n",
              "                                                     [key], {});\n",
              "          if (!dataTable) return;\n",
              "\n",
              "          const docLinkHtml = 'Like what you see? Visit the ' +\n",
              "            '<a target=\"_blank\" href=https://colab.research.google.com/notebooks/data_table.ipynb>data table notebook</a>'\n",
              "            + ' to learn more about interactive tables.';\n",
              "          element.innerHTML = '';\n",
              "          dataTable['output_type'] = 'display_data';\n",
              "          await google.colab.output.renderOutput(dataTable, element);\n",
              "          const docLink = document.createElement('div');\n",
              "          docLink.innerHTML = docLinkHtml;\n",
              "          element.appendChild(docLink);\n",
              "        }\n",
              "      </script>\n",
              "    </div>\n",
              "  </div>\n",
              "  "
            ]
          },
          "metadata": {},
          "execution_count": 536
        }
      ]
    },
    {
      "cell_type": "code",
      "source": [
        "col_A = encode_file['Umur']\n",
        "umur_array = col_A.to_numpy()\n",
        "\n",
        "col_B = encode_file['Status']\n",
        "status_array = col_B.to_numpy()\n",
        "\n",
        "col_C = encode_file['Total Hari']\n",
        "hari_array = col_C.to_numpy()\n",
        "\n",
        "col_D = encode_file['Kulit']\n",
        "kulit_array = col_D.to_numpy()\n",
        "\n",
        "col_E = encode_file['Gender']\n",
        "gender_array = col_E.to_numpy()\n",
        "\n",
        "col_F = encode_file['Stadium']\n",
        "stadium_array = col_F.to_numpy()\n",
        "\n",
        "print(umur_array)\n",
        "print(status_array)\n",
        "print(hari_array)\n",
        "print(kulit_array)\n",
        "print(gender_array)\n",
        "print(stadium_array)"
      ],
      "metadata": {
        "colab": {
          "base_uri": "https://localhost:8080/"
        },
        "id": "FeDWeB1Zytyd",
        "outputId": "28246231-a7f7-4d6c-f7e7-f0d2d09fa23f"
      },
      "execution_count": 537,
      "outputs": [
        {
          "output_type": "stream",
          "name": "stdout",
          "text": [
            "[67 69 60 ... 56 61 57]\n",
            "[1 0 0 ... 0 1 1]\n",
            "[ 148.  524.  456. ... 1077. 1632. 2144.]\n",
            "[0 0 0 ... 0 0 0]\n",
            "[0 0 1 ... 0 0 1]\n",
            "[6 6 0 ... 6 6 0]\n"
          ]
        }
      ]
    },
    {
      "cell_type": "code",
      "source": [
        "xTrain=[]\n",
        "\n",
        "for i in range(len(umur_array)):\n",
        "    dummy = []\n",
        "    dummy.append(umur_array[i])\n",
        "    dummy.append(status_array[i])\n",
        "    xTrain.append(dummy)\n",
        "\n",
        "print(xTrain)"
      ],
      "metadata": {
        "colab": {
          "base_uri": "https://localhost:8080/"
        },
        "id": "WT5VDftMIedS",
        "outputId": "ec9b2e66-70e7-42bb-fbb8-0c5599d0ec35"
      },
      "execution_count": 538,
      "outputs": [
        {
          "output_type": "stream",
          "name": "stdout",
          "text": [
            "[[67, 1], [69, 0], [60, 0], [68, 0], [65, 0], [64, 0], [61, 1], [61, 1], [63, 1], [56, 0], [60, 0], [59, 0], [64, 0], [63, 1], [65, 1], [70, 1], [68, 1], [60, 0], [56, 1], [69, 1], [59, 0], [70, 0], [62, 0], [72, 1], [60, 0], [59, 0], [59, 0], [60, 0], [62, 1], [70, 0], [67, 1], [73, 0], [59, 1], [57, 0], [66, 0], [67, 1], [68, 0], [67, 1], [56, 1], [70, 1], [71, 0], [55, 1], [71, 1], [65, 0], [74, 1], [63, 1], [59, 0], [55, 0], [61, 1], [58, 1], [68, 1], [59, 0], [74, 1], [63, 0], [68, 0], [57, 0], [65, 1], [58, 0], [65, 1], [66, 1], [68, 1], [63, 0], [62, 0], [63, 1], [62, 0], [60, 0], [60, 1], [66, 0], [57, 0], [58, 1], [56, 0], [67, 1], [62, 1], [61, 0], [69, 1], [57, 0], [63, 0], [65, 0], [61, 0], [61, 0], [73, 0], [59, 0], [69, 0], [55, 0], [69, 1], [56, 1], [57, 0], [66, 0], [60, 1], [62, 1], [57, 0], [68, 1], [62, 1], [64, 0], [58, 0], [69, 1], [58, 0], [58, 0], [58, 0], [58, 1], [56, 1], [69, 1], [57, 0], [68, 0], [62, 1], [74, 1], [71, 1], [62, 0], [59, 0], [65, 1], [67, 1], [59, 0], [65, 1], [73, 1], [56, 0], [59, 1], [59, 0], [70, 0], [65, 0], [60, 0], [60, 0], [61, 0], [60, 1], [70, 0], [68, 0], [73, 0], [60, 0], [67, 1], [61, 0], [60, 0], [59, 1], [61, 0], [64, 1], [65, 0], [61, 1], [58, 0], [60, 1], [70, 1], [72, 0], [63, 0], [59, 0], [64, 0], [56, 1], [65, 1], [71, 0], [60, 0], [65, 0], [66, 1], [68, 0], [67, 0], [67, 0], [59, 0], [64, 0], [69, 0], [67, 1], [63, 0], [59, 1], [65, 0], [69, 0], [67, 1], [64, 0], [59, 0], [58, 0], [59, 0], [55, 0], [63, 0], [61, 1], [66, 0], [62, 1], [56, 0], [69, 0], [68, 1], [62, 0], [72, 1], [64, 0], [71, 0], [59, 1], [60, 0], [66, 0], [55, 0], [58, 0], [58, 0], [55, 0], [73, 1], [63, 0], [65, 0], [55, 0], [73, 0], [59, 1], [72, 1], [60, 0], [70, 0], [62, 1], [66, 0], [62, 1], [60, 0], [61, 0], [56, 1], [60, 1], [55, 0], [57, 1], [58, 0], [68, 0], [69, 0], [68, 0], [68, 0], [65, 0], [70, 1], [62, 1], [57, 0], [69, 1], [66, 1], [71, 1], [67, 0], [65, 0], [55, 1], [72, 1], [73, 0], [59, 0], [65, 1], [72, 1], [64, 0], [67, 1], [67, 1], [56, 0], [60, 0], [67, 0], [58, 0], [68, 0], [73, 0], [70, 1], [66, 0], [61, 1], [59, 0], [68, 1], [61, 0], [62, 0], [72, 1], [59, 0], [60, 0], [55, 0], [67, 1], [64, 0], [63, 0], [65, 0], [58, 0], [63, 0], [59, 1], [56, 0], [69, 0], [59, 0], [66, 1], [73, 0], [69, 1], [58, 0], [55, 0], [73, 0], [58, 0], [67, 0], [55, 1], [73, 1], [65, 0], [66, 1], [62, 0], [62, 1], [62, 1], [57, 0], [63, 0], [64, 1], [64, 0], [60, 1], [57, 0], [65, 0], [71, 1], [61, 0], [56, 1], [55, 0], [73, 0], [64, 0], [70, 1], [74, 0], [64, 0], [74, 1], [67, 1], [64, 0], [71, 0], [72, 1], [66, 0], [70, 0], [70, 1], [72, 1], [59, 0], [59, 0], [67, 1], [62, 0], [67, 1], [70, 1], [61, 0], [64, 0], [68, 0], [71, 0], [69, 0], [68, 0], [71, 0], [66, 0], [67, 1], [61, 1], [64, 0], [63, 0], [68, 0], [71, 1], [67, 0], [69, 0], [73, 0], [63, 0], [58, 1], [57, 1], [67, 0], [62, 0], [73, 0], [59, 1], [58, 1], [58, 1], [61, 0], [71, 0], [73, 0], [74, 1], [69, 0], [62, 0], [61, 1], [66, 0], [56, 0], [55, 0], [55, 0], [61, 0], [62, 1], [59, 1], [69, 0], [72, 1], [63, 0], [60, 0], [62, 1], [61, 1], [67, 1], [55, 0], [65, 1], [59, 1], [62, 0], [66, 1], [57, 0], [58, 0], [68, 0], [68, 1], [63, 0], [73, 0], [60, 0], [64, 0], [62, 1], [57, 0], [69, 0], [70, 1], [64, 0], [60, 1], [57, 0], [70, 0], [68, 0], [61, 1], [73, 0], [63, 0], [55, 0], [60, 0], [56, 0], [61, 1], [63, 1], [63, 0], [66, 0], [57, 0], [60, 0], [71, 0], [72, 1], [69, 1], [68, 1], [72, 1], [62, 0], [64, 0], [61, 0], [64, 1], [56, 0], [69, 0], [74, 0], [59, 1], [58, 0], [72, 0], [66, 0], [71, 1], [65, 1], [74, 1], [69, 0], [64, 1], [68, 1], [56, 1], [64, 1], [64, 0], [73, 1], [67, 1], [63, 1], [67, 0], [70, 0], [56, 0], [58, 0], [70, 0], [68, 0], [59, 1], [69, 0], [68, 0], [73, 1], [64, 1], [69, 1], [68, 1], [66, 1], [65, 0], [61, 1], [70, 0], [55, 0], [69, 0], [65, 0], [70, 1], [65, 1], [74, 1], [74, 1], [68, 0], [59, 0], [56, 1], [70, 1], [57, 0], [57, 0], [64, 1], [64, 1], [56, 1], [66, 1], [59, 1], [59, 0], [70, 0], [70, 0], [58, 0], [58, 0], [64, 0], [57, 0], [61, 1], [55, 0], [58, 1], [56, 1], [63, 0], [67, 1], [72, 0], [56, 0], [64, 0], [69, 1], [65, 0], [70, 1], [71, 0], [60, 0], [61, 0], [72, 0], [60, 1], [74, 1], [65, 0], [68, 0], [65, 1], [73, 1], [62, 0], [67, 0], [61, 1], [73, 1], [67, 0], [62, 0], [56, 0], [72, 0], [68, 0], [59, 0], [56, 1], [73, 0], [55, 1], [71, 0], [61, 0], [70, 0], [65, 1], [72, 0], [68, 0], [64, 0], [72, 0], [66, 1], [61, 1], [61, 1], [72, 0], [56, 0], [61, 1], [73, 1], [57, 1], [58, 1], [66, 0], [56, 1], [55, 0], [66, 1], [72, 0], [55, 1], [58, 0], [65, 0], [60, 0], [59, 1], [63, 1], [65, 1], [64, 0], [61, 1], [63, 0], [64, 0], [69, 1], [71, 0], [64, 1], [55, 0], [62, 1], [74, 1], [63, 1], [64, 0], [59, 1], [63, 0], [60, 0], [64, 0], [62, 1], [62, 1], [63, 0], [70, 1], [55, 0], [58, 0], [68, 1], [72, 0], [73, 0], [67, 0], [59, 0], [68, 0], [60, 0], [59, 0], [74, 0], [62, 0], [59, 0], [70, 0], [61, 1], [60, 0], [68, 0], [59, 0], [62, 1], [68, 0], [71, 0], [57, 1], [57, 0], [69, 0], [63, 0], [60, 0], [58, 0], [59, 0], [67, 0], [70, 0], [57, 0], [73, 1], [69, 0], [57, 0], [56, 1], [63, 0], [64, 1], [56, 0], [63, 0], [60, 0], [72, 1], [63, 0], [59, 0], [57, 1], [67, 1], [67, 0], [70, 0], [73, 0], [66, 0], [57, 0], [62, 0], [61, 1], [62, 1], [66, 1], [61, 1], [55, 1], [70, 0], [69, 1], [71, 0], [67, 0], [61, 0], [59, 0], [61, 0], [57, 0], [72, 0], [67, 1], [63, 0], [62, 0], [63, 1], [64, 0], [64, 0], [60, 0], [69, 1], [64, 1], [56, 1], [56, 0], [63, 0], [60, 0], [59, 0], [70, 0], [64, 0], [57, 0], [65, 0], [70, 0], [64, 0], [68, 0], [69, 1], [72, 0], [64, 0], [68, 1], [72, 0], [65, 1], [57, 1], [55, 0], [55, 0], [63, 0], [68, 0], [59, 0], [55, 0], [68, 1], [57, 1], [69, 0], [60, 0], [63, 0], [59, 0], [69, 0], [68, 1], [57, 0], [63, 1], [65, 0], [57, 0], [61, 1], [66, 1], [56, 1], [66, 1], [59, 1], [64, 0], [59, 1], [66, 0], [55, 0], [66, 1], [70, 0], [58, 0], [57, 0], [71, 0], [64, 0], [69, 0], [57, 0], [60, 0], [58, 1], [74, 0], [70, 1], [59, 0], [70, 0], [69, 0], [74, 1], [64, 1], [65, 1], [55, 0], [70, 0], [64, 0], [58, 0], [57, 0], [60, 0], [60, 0], [59, 0], [58, 1], [69, 1], [69, 0], [69, 0], [66, 0], [65, 1], [73, 0], [61, 0], [55, 0], [65, 0], [68, 1], [62, 1], [68, 1], [71, 1], [72, 1], [65, 0], [67, 0], [62, 1], [57, 0], [66, 0], [59, 0], [62, 0], [65, 1], [56, 0], [72, 1], [64, 0], [65, 1], [71, 0], [69, 0], [61, 0], [70, 1], [60, 0], [66, 0], [55, 0], [55, 0], [67, 0], [60, 0], [63, 1], [68, 0], [62, 0], [60, 1], [64, 0], [68, 1], [67, 1], [66, 0], [68, 1], [58, 1], [64, 0], [60, 0], [60, 1], [65, 1], [61, 1], [57, 1], [71, 1], [73, 1], [59, 1], [64, 1], [57, 1], [66, 1], [57, 0], [65, 0], [57, 0], [57, 0], [63, 0], [70, 0], [73, 0], [61, 1], [65, 0], [57, 0], [66, 1], [72, 0], [71, 0], [67, 0], [60, 0], [63, 1], [72, 1], [55, 1], [61, 0], [61, 1], [66, 0], [71, 1], [58, 1], [62, 0], [61, 1], [61, 0], [60, 0], [67, 0], [65, 0], [56, 0], [71, 1], [57, 1], [70, 0], [72, 0], [61, 0], [59, 0], [66, 1], [65, 0], [66, 1], [56, 0], [55, 0], [60, 0], [60, 1], [62, 0], [57, 1], [66, 0], [68, 0], [68, 0], [67, 0], [56, 0], [69, 1], [71, 1], [66, 1], [59, 0], [55, 1], [68, 1], [56, 1], [71, 0], [63, 0], [67, 1], [57, 0], [64, 0], [62, 1], [67, 1], [60, 0], [66, 0], [70, 1], [56, 0], [57, 0], [57, 0], [64, 1], [61, 1], [68, 0], [56, 0], [72, 1], [63, 0], [65, 1], [71, 0], [74, 1], [73, 1], [66, 1], [63, 1], [59, 0], [64, 1], [59, 0], [64, 1], [62, 1], [73, 0], [58, 0], [62, 0], [66, 0], [70, 0], [58, 0], [60, 0], [73, 0], [65, 1], [58, 0], [71, 1], [69, 0], [73, 0], [67, 0], [71, 1], [60, 1], [62, 0], [72, 0], [59, 0], [60, 1], [55, 0], [56, 0], [56, 0], [55, 1], [59, 1], [56, 1], [56, 0], [58, 0], [70, 0], [65, 0], [64, 0], [72, 1], [71, 1], [57, 0], [61, 1], [59, 0], [72, 1], [71, 1], [71, 1], [63, 1], [60, 0], [58, 0], [58, 1], [62, 0], [65, 0], [56, 0], [69, 1], [65, 0], [67, 1], [60, 1], [56, 0], [56, 0], [69, 1], [67, 0], [63, 0], [64, 1], [61, 0], [59, 0], [67, 0], [58, 0], [62, 0], [72, 0], [69, 0], [57, 0], [68, 1], [67, 0], [61, 1], [72, 0], [69, 0], [57, 0], [61, 0], [58, 0], [64, 0], [65, 0], [67, 0], [59, 0], [57, 1], [73, 1], [63, 1], [61, 0], [58, 1], [62, 0], [68, 0], [59, 0], [74, 0], [63, 1], [65, 1], [59, 0], [57, 0], [64, 0], [65, 1], [72, 1], [65, 0], [69, 0], [72, 1], [66, 0], [68, 1], [71, 0], [58, 1], [68, 1], [73, 1], [68, 1], [60, 0], [71, 0], [68, 0], [66, 0], [57, 1], [65, 0], [64, 1], [67, 0], [65, 1], [71, 0], [59, 1], [65, 0], [72, 1], [63, 0], [71, 0], [70, 0], [60, 1], [70, 0], [60, 0], [55, 0], [66, 0], [70, 1], [65, 1], [71, 1], [62, 0], [61, 1], [56, 0], [60, 0], [62, 0], [72, 1], [58, 0], [59, 0], [58, 0], [56, 0], [72, 0], [57, 0], [61, 0], [65, 0], [62, 1], [68, 1], [61, 1], [60, 0], [58, 0], [55, 0], [67, 1], [62, 0], [70, 1], [60, 1], [67, 1], [62, 0], [70, 1], [65, 0], [57, 0], [71, 1], [65, 0], [64, 1], [59, 0], [63, 1], [56, 1], [55, 0], [66, 1], [67, 1], [69, 0], [63, 1], [66, 0], [68, 0], [56, 1], [55, 0], [58, 0], [57, 1], [68, 0], [68, 1], [60, 0], [58, 0], [67, 0], [57, 1], [57, 0], [65, 1], [64, 1], [73, 0], [55, 0], [72, 1], [58, 1], [58, 1], [58, 0], [55, 0], [61, 0], [59, 0], [62, 1], [66, 1], [69, 0], [58, 0], [64, 0], [67, 1], [68, 0], [58, 1], [72, 1], [66, 0], [72, 0], [64, 0], [72, 1], [60, 0], [68, 1], [74, 1], [70, 0], [61, 0], [62, 0], [58, 0], [66, 1], [56, 0], [67, 0], [73, 1], [72, 1], [59, 1], [63, 0], [59, 0], [69, 0], [58, 1], [69, 1], [62, 1], [72, 0], [56, 1], [60, 1], [57, 0], [55, 1], [60, 1], [56, 0], [68, 1], [74, 0], [66, 1], [62, 1], [63, 0], [58, 0], [68, 1], [68, 0], [57, 1], [68, 0], [58, 1], [64, 1], [74, 0], [61, 0], [59, 0], [61, 1], [61, 0], [65, 0], [64, 1], [68, 1], [61, 1], [71, 1], [61, 0], [60, 0], [73, 1], [56, 0], [60, 0], [57, 0], [63, 1], [56, 0], [62, 0], [59, 0], [60, 0], [61, 0], [55, 1], [69, 0], [62, 0], [64, 0], [63, 0], [61, 1], [68, 0], [66, 1], [56, 0], [73, 0], [57, 0], [65, 1], [57, 0], [63, 0], [74, 0], [55, 0], [67, 1], [57, 0], [63, 0], [71, 1], [73, 0], [67, 1], [70, 0], [59, 0], [63, 0], [58, 1], [68, 1], [59, 0], [62, 0], [72, 1], [66, 1], [65, 1], [66, 0], [68, 1], [58, 1], [65, 1], [70, 1], [73, 1], [68, 1], [57, 0], [61, 0], [70, 0], [57, 0], [73, 0], [68, 0], [56, 1], [60, 1], [56, 0], [66, 0], [58, 1], [73, 0], [55, 0], [62, 0], [62, 0], [67, 1], [55, 0], [66, 1], [70, 1], [73, 0], [68, 1], [61, 1], [59, 1], [62, 0], [64, 1], [60, 1], [56, 0], [65, 1], [58, 0], [60, 0], [57, 0], [57, 1], [64, 0], [73, 1], [62, 0], [56, 0], [67, 0], [64, 0], [61, 0], [68, 1], [58, 1], [66, 0], [56, 0], [70, 1], [61, 0], [66, 0], [70, 1], [61, 1], [64, 0], [71, 1], [66, 0], [69, 0], [64, 0], [70, 0], [74, 1], [55, 0], [63, 1], [61, 1], [65, 0], [60, 0], [66, 0], [72, 0], [64, 1], [60, 0], [69, 0], [61, 1], [67, 0], [56, 1], [68, 0], [68, 0], [61, 0], [74, 1], [67, 0], [61, 1], [71, 0], [68, 0], [62, 0], [55, 1], [66, 0], [55, 1], [64, 0], [61, 1], [70, 1], [58, 0], [58, 0], [68, 1], [58, 0], [58, 1], [70, 0], [58, 0], [61, 0], [63, 1], [70, 1], [67, 1], [62, 0], [56, 0], [68, 0], [71, 0], [69, 0], [55, 0], [61, 0], [56, 0], [59, 0], [61, 1], [55, 0], [69, 1], [63, 0], [56, 0], [64, 0], [63, 0], [74, 1], [71, 1], [63, 0], [67, 0], [56, 0], [67, 0], [64, 1], [59, 1], [61, 1], [64, 0], [64, 1], [66, 0], [73, 1], [56, 1], [72, 1], [61, 1], [68, 1], [57, 1], [58, 1], [64, 0], [69, 1], [58, 0], [65, 0], [55, 0], [67, 0], [66, 0], [58, 0], [64, 0], [66, 0], [66, 0], [60, 0], [72, 1], [71, 0], [74, 1], [60, 1], [60, 0], [62, 0], [66, 0], [59, 0], [59, 1], [56, 0], [60, 0], [70, 0], [60, 1], [70, 0], [61, 0], [72, 0], [66, 0], [56, 0], [59, 1], [62, 0], [66, 0], [66, 0], [55, 0], [65, 1], [68, 1], [70, 1], [62, 1], [70, 0], [60, 0], [68, 0], [71, 0], [63, 0], [60, 1], [62, 0], [63, 0], [69, 1], [56, 0], [57, 0], [58, 0], [71, 1], [72, 0], [56, 0], [58, 1], [64, 1], [59, 0], [61, 1], [61, 0], [61, 1], [60, 0], [59, 1], [61, 1], [65, 0], [72, 1], [64, 1], [56, 0], [56, 0], [61, 0], [71, 0], [56, 0], [58, 0], [56, 1], [69, 0], [68, 1], [69, 1], [58, 0], [55, 0], [66, 1], [56, 0], [68, 0], [63, 0], [64, 1], [55, 1], [66, 0], [64, 0], [69, 0], [67, 0], [62, 0], [60, 0], [67, 1], [64, 0], [63, 0], [72, 0], [61, 0], [59, 0], [55, 0], [63, 0], [62, 1], [65, 1], [60, 0], [55, 1], [55, 0], [62, 1], [59, 1], [57, 1], [56, 1], [58, 0], [61, 0], [56, 0], [66, 0], [70, 0], [60, 0], [66, 1], [67, 1], [66, 0], [67, 1], [72, 0], [74, 1], [73, 0], [64, 0], [60, 0], [63, 1], [65, 1], [61, 0], [58, 0], [57, 0], [66, 0], [67, 1], [57, 0], [63, 0], [70, 0], [58, 1], [63, 1], [64, 1], [60, 0], [59, 1], [71, 0], [65, 1], [61, 0], [64, 0], [62, 0], [67, 1], [67, 1], [60, 0], [70, 1], [63, 0], [63, 0], [71, 1], [63, 1], [58, 0], [60, 1], [70, 1], [60, 1], [69, 0], [68, 1], [68, 0], [57, 0], [69, 1], [57, 0], [57, 0], [63, 1], [55, 1], [67, 0], [68, 1], [74, 0], [57, 1], [62, 0], [67, 1], [62, 0], [71, 1], [63, 0], [62, 0], [57, 1], [63, 0], [60, 0], [62, 0], [59, 0], [67, 1], [64, 0], [65, 1], [61, 0], [67, 0], [63, 0], [62, 0], [61, 1], [57, 0], [66, 1], [56, 1], [64, 0], [66, 0], [61, 1], [68, 0], [56, 0], [59, 0], [57, 1], [57, 1], [62, 0], [59, 0], [60, 0], [62, 1], [62, 0], [60, 1], [63, 0], [60, 0], [58, 0], [56, 1], [61, 0], [73, 1], [60, 0], [60, 0], [61, 1], [62, 1], [70, 0], [64, 1], [60, 0], [62, 1], [59, 0], [70, 0], [63, 0], [55, 0], [67, 1], [65, 0], [65, 1], [55, 0], [56, 1], [63, 0], [61, 1], [59, 0], [72, 0], [59, 0], [68, 0], [68, 1], [72, 0], [64, 0], [55, 0], [58, 1], [74, 0], [66, 1], [64, 1], [61, 0], [64, 0], [69, 1], [56, 0], [65, 1], [65, 0], [58, 1], [56, 0], [64, 0], [71, 0], [73, 0], [69, 0], [61, 0], [56, 1], [62, 0], [65, 1], [56, 0], [57, 0], [71, 1], [55, 0], [66, 0], [67, 0], [72, 0], [68, 1], [59, 1], [67, 1], [61, 0], [66, 1], [61, 0], [73, 0], [70, 0], [69, 1], [61, 0], [74, 1], [55, 0], [55, 0], [70, 0], [70, 0], [66, 0], [71, 0], [68, 1], [57, 1], [71, 1], [65, 0], [60, 0], [63, 0], [69, 1], [72, 0], [64, 0], [58, 0], [61, 0], [56, 0], [55, 1], [73, 0], [66, 1], [70, 1], [62, 0], [61, 0], [58, 0], [74, 1], [67, 0], [58, 0], [63, 1], [65, 0], [55, 1], [66, 0], [61, 0], [66, 0], [57, 0], [62, 0], [63, 0], [67, 1], [56, 1], [67, 1], [59, 0], [61, 0], [62, 1], [64, 0], [63, 0], [70, 1], [62, 0], [71, 1], [62, 0], [66, 1], [68, 0], [57, 1], [64, 1], [74, 1], [61, 0], [61, 1], [63, 0], [57, 1], [61, 0], [60, 0], [56, 0], [68, 0], [61, 0], [70, 1], [65, 0], [73, 0], [56, 0], [67, 1], [61, 0], [73, 1], [70, 1], [59, 0], [57, 0], [60, 0], [61, 0], [63, 0], [65, 1], [64, 0], [60, 1], [66, 1], [68, 1], [65, 0], [62, 0], [70, 0], [58, 0], [64, 0], [63, 0], [62, 1], [55, 1], [58, 0], [68, 1], [68, 1], [63, 0], [70, 0], [56, 0], [68, 0], [61, 0], [57, 0], [69, 1], [72, 0], [67, 0], [55, 1], [69, 0], [66, 0], [67, 0], [72, 1], [62, 1], [69, 1], [58, 1], [63, 1], [55, 1], [63, 0], [56, 0], [64, 1], [57, 0], [68, 1], [69, 1], [56, 0], [70, 0], [64, 1], [71, 0], [60, 0], [73, 1], [55, 0], [57, 0], [70, 1], [73, 1], [61, 0], [60, 0], [62, 0], [64, 0], [58, 0], [65, 0], [69, 0], [72, 0], [60, 1], [59, 0], [65, 0], [64, 1], [61, 0], [62, 1], [66, 0], [64, 0], [65, 0], [62, 1], [67, 0], [57, 0], [68, 0], [64, 0], [58, 0], [57, 0], [56, 0], [60, 0], [71, 1], [58, 1], [66, 1], [61, 0], [60, 0], [60, 0], [67, 0], [62, 0], [64, 1], [72, 0], [73, 0], [63, 1], [68, 0], [55, 1], [55, 0], [64, 0], [73, 1], [68, 1], [56, 0], [59, 0], [65, 0], [66, 0], [63, 1], [74, 1], [58, 1], [70, 0], [64, 0], [66, 0], [59, 0], [68, 0], [61, 1], [62, 0], [69, 0], [67, 1], [64, 1], [60, 1], [66, 1], [60, 0], [65, 1], [61, 1], [62, 1], [63, 1], [69, 0], [71, 0], [58, 0], [68, 0], [62, 1], [73, 1], [59, 1], [61, 0], [69, 1], [70, 0], [61, 0], [56, 1], [59, 0], [56, 1], [59, 0], [74, 1], [59, 1], [59, 0], [69, 0], [56, 0], [66, 0], [64, 0], [73, 0], [64, 1], [74, 0], [63, 0], [63, 1], [56, 0], [61, 0], [60, 0], [65, 1], [60, 1], [61, 1], [60, 0], [65, 0], [66, 0], [74, 1], [63, 1], [55, 0], [68, 0], [61, 0], [58, 1], [71, 0], [62, 0], [61, 1], [61, 0], [63, 0], [73, 1], [59, 1], [65, 0], [66, 1], [70, 1], [58, 0], [58, 1], [63, 1], [65, 0], [68, 0], [64, 1], [66, 1], [58, 0], [58, 1], [63, 0], [58, 0], [62, 1], [74, 0], [56, 0], [64, 1], [55, 0], [73, 0], [60, 0], [62, 1], [64, 1], [62, 1], [68, 1], [57, 0], [56, 1], [60, 1], [66, 1], [67, 0], [68, 1], [68, 1], [57, 0], [68, 0], [64, 0], [73, 0], [65, 0], [66, 1], [65, 1], [57, 0], [69, 0], [63, 0], [68, 0], [71, 1], [58, 0], [68, 1], [67, 1], [72, 0], [67, 0], [62, 0], [61, 1], [71, 1], [65, 0], [69, 1], [66, 1], [59, 1], [61, 0], [57, 1], [69, 1], [58, 0], [74, 1], [61, 0], [72, 0], [69, 1], [62, 1], [63, 0], [63, 0], [63, 0], [71, 1], [66, 1], [72, 0], [55, 0], [67, 1], [60, 1], [72, 0], [60, 0], [60, 1], [66, 1], [60, 0], [66, 0], [67, 1], [69, 0], [70, 1], [65, 1], [67, 1], [67, 1], [69, 0], [61, 0], [57, 0], [61, 0], [60, 1], [72, 1], [71, 1], [57, 0], [73, 1], [74, 1], [71, 0], [57, 0], [74, 1], [69, 0], [72, 0], [71, 0], [70, 1], [68, 1], [67, 1], [65, 1], [58, 0], [62, 0], [68, 1], [56, 0], [55, 0], [64, 0], [69, 1], [71, 0], [70, 0], [66, 1], [68, 1], [58, 0], [58, 0], [56, 0], [58, 1], [65, 0], [60, 0], [64, 0], [66, 1], [70, 0], [57, 0], [62, 0], [58, 0], [73, 1], [64, 1], [65, 0], [68, 1], [67, 1], [62, 1], [66, 0], [71, 1], [71, 1], [59, 1], [64, 1], [70, 0], [59, 1], [73, 0], [71, 1], [63, 0], [60, 0], [73, 0], [59, 1], [58, 1], [74, 1], [74, 1], [62, 1], [62, 1], [63, 0], [73, 1], [61, 1], [60, 0], [59, 0], [59, 0], [55, 0], [58, 0], [57, 0], [71, 1], [69, 1], [63, 1], [55, 0], [67, 0], [64, 1], [59, 0], [62, 1], [62, 0], [64, 1], [59, 0], [60, 0], [56, 0], [59, 0], [65, 0], [57, 1], [72, 1], [62, 1], [60, 1], [66, 0], [69, 0], [74, 1], [73, 1], [61, 0], [56, 0], [55, 1], [61, 0], [59, 0], [59, 0], [65, 0], [66, 0], [65, 1], [65, 0], [70, 0], [63, 1], [64, 1], [58, 1], [65, 1], [57, 0], [60, 1], [67, 0], [59, 0], [56, 0], [62, 0], [65, 0], [66, 0], [71, 1], [72, 0], [66, 0], [74, 1], [66, 1], [64, 1], [57, 0], [65, 0], [63, 0], [64, 1], [66, 0], [58, 0], [61, 0], [74, 0], [67, 1], [64, 0], [59, 0], [68, 0], [58, 0], [64, 1], [55, 0], [55, 0], [58, 0], [65, 0], [60, 1], [69, 0], [56, 0], [61, 1], [57, 1]]\n"
          ]
        }
      ]
    },
    {
      "cell_type": "markdown",
      "source": [
        "Prediksi dengan data yang baru"
      ],
      "metadata": {
        "id": "dVMJnXDsJqAz"
      }
    },
    {
      "cell_type": "code",
      "source": [
        "# Buat objek KNN dengan jumlah tetangga terdekat sebanyak 3\n",
        "knn = KNeighborsClassifier(n_neighbors=1)\n",
        "\n",
        "# Tentukan data latih dan target yang akan digunakan\n",
        "# X = [[24.5, 34.5], [22.6, 31.1], [28.3, 38.2], [26.7, 35.3], [24.7, 33.2]]\n",
        "Xlatih = xTrain\n",
        "ylatih = stadium_array\n",
        "\n",
        "# Latih model KNN dengan data latih yang telah ditentukan\n",
        "knn.fit(Xlatih, ylatih)\n",
        "\n",
        "# Prediksi nilai target dari suatu objek baru\n",
        "# Misalnya, kita ingin memprediksi jenis sepatu dengan ukuran 24.5 cm dan 35.4 cm\n",
        "new_data = [[70,0]] # [umur,status]\n",
        "prediction = knn.predict(new_data)\n",
        "\n",
        "# Tampilkan hasil prediksi\n",
        "print(prediction)\n"
      ],
      "metadata": {
        "colab": {
          "base_uri": "https://localhost:8080/"
        },
        "id": "1qJyJQJSplWn",
        "outputId": "11bd5c68-6e31-468f-8b93-e66898253e22"
      },
      "execution_count": 606,
      "outputs": [
        {
          "output_type": "stream",
          "name": "stdout",
          "text": [
            "[5]\n"
          ]
        }
      ]
    },
    {
      "cell_type": "markdown",
      "source": [
        "Prediksi dengan data yang ada"
      ],
      "metadata": {
        "id": "J4Pw86YTJmqH"
      }
    },
    {
      "cell_type": "code",
      "source": [
        "import sklearn\n",
        "from sklearn import preprocessing, neighbors\n",
        "from sklearn.model_selection import train_test_split"
      ],
      "metadata": {
        "id": "r8QYov8TB9We"
      },
      "execution_count": 597,
      "outputs": []
    },
    {
      "cell_type": "code",
      "source": [
        "X = encode_file.drop(\"Stadium\", axis=1)\n",
        "X = preprocessing.scale(X)\n",
        "y = encode_file[\"Stadium\"]"
      ],
      "metadata": {
        "id": "ubNMD_XrBkep"
      },
      "execution_count": 598,
      "outputs": []
    },
    {
      "cell_type": "code",
      "source": [
        "X_train, X_test, y_train, y_test = train_test_split(X, y, test_size=0.3)"
      ],
      "metadata": {
        "id": "Zq35U3KfCHZb"
      },
      "execution_count": 599,
      "outputs": []
    },
    {
      "cell_type": "code",
      "source": [
        "clf = neighbors.KNeighborsClassifier(n_neighbors=1)\n",
        "clf.fit(X_train, y_train)"
      ],
      "metadata": {
        "colab": {
          "base_uri": "https://localhost:8080/"
        },
        "id": "bL2-Q4nsGYws",
        "outputId": "a1a0f762-5987-47b6-d5a9-092989fa7f68"
      },
      "execution_count": 600,
      "outputs": [
        {
          "output_type": "execute_result",
          "data": {
            "text/plain": [
              "KNeighborsClassifier(n_neighbors=1)"
            ]
          },
          "metadata": {},
          "execution_count": 600
        }
      ]
    },
    {
      "cell_type": "code",
      "source": [
        "accuracy = clf.score(X_train, y_train)\n",
        "print(\"Accuracy\", accuracy)"
      ],
      "metadata": {
        "colab": {
          "base_uri": "https://localhost:8080/"
        },
        "id": "oCsmcg-8Ghr_",
        "outputId": "04c2bdc2-117d-48b8-8409-b3c89517be63"
      },
      "execution_count": 601,
      "outputs": [
        {
          "output_type": "stream",
          "name": "stdout",
          "text": [
            "Accuracy 0.9971570717839374\n"
          ]
        }
      ]
    },
    {
      "cell_type": "code",
      "source": [
        "#Prediksi\n",
        "for X,y in zip(X_test, y_test):\n",
        "  print(f\"Predicted Target:{clf.predict([X])[0]}, Actual Target: {y}\")"
      ],
      "metadata": {
        "colab": {
          "base_uri": "https://localhost:8080/"
        },
        "id": "-_NMN7BVG0Eh",
        "outputId": "a6df4a53-36a7-4280-c497-a9eb060a5a61"
      },
      "execution_count": 602,
      "outputs": [
        {
          "output_type": "stream",
          "name": "stdout",
          "text": [
            "Predicted Target:6, Actual Target: 6\n",
            "Predicted Target:0, Actual Target: 6\n",
            "Predicted Target:2, Actual Target: 5\n",
            "Predicted Target:0, Actual Target: 0\n",
            "Predicted Target:4, Actual Target: 5\n",
            "Predicted Target:0, Actual Target: 0\n",
            "Predicted Target:3, Actual Target: 1\n",
            "Predicted Target:0, Actual Target: 0\n",
            "Predicted Target:0, Actual Target: 0\n",
            "Predicted Target:6, Actual Target: 4\n",
            "Predicted Target:0, Actual Target: 6\n",
            "Predicted Target:2, Actual Target: 0\n",
            "Predicted Target:5, Actual Target: 6\n",
            "Predicted Target:4, Actual Target: 5\n",
            "Predicted Target:6, Actual Target: 4\n",
            "Predicted Target:4, Actual Target: 0\n",
            "Predicted Target:1, Actual Target: 6\n",
            "Predicted Target:0, Actual Target: 0\n",
            "Predicted Target:5, Actual Target: 4\n",
            "Predicted Target:4, Actual Target: 6\n",
            "Predicted Target:0, Actual Target: 0\n",
            "Predicted Target:0, Actual Target: 2\n",
            "Predicted Target:2, Actual Target: 1\n",
            "Predicted Target:4, Actual Target: 0\n",
            "Predicted Target:1, Actual Target: 6\n",
            "Predicted Target:6, Actual Target: 4\n",
            "Predicted Target:0, Actual Target: 0\n",
            "Predicted Target:6, Actual Target: 4\n",
            "Predicted Target:0, Actual Target: 4\n",
            "Predicted Target:0, Actual Target: 0\n",
            "Predicted Target:6, Actual Target: 4\n",
            "Predicted Target:6, Actual Target: 5\n",
            "Predicted Target:2, Actual Target: 0\n",
            "Predicted Target:0, Actual Target: 6\n",
            "Predicted Target:4, Actual Target: 1\n",
            "Predicted Target:0, Actual Target: 0\n",
            "Predicted Target:0, Actual Target: 0\n",
            "Predicted Target:6, Actual Target: 0\n",
            "Predicted Target:3, Actual Target: 6\n",
            "Predicted Target:4, Actual Target: 2\n",
            "Predicted Target:1, Actual Target: 4\n",
            "Predicted Target:6, Actual Target: 6\n",
            "Predicted Target:0, Actual Target: 4\n",
            "Predicted Target:6, Actual Target: 4\n",
            "Predicted Target:0, Actual Target: 5\n",
            "Predicted Target:0, Actual Target: 5\n",
            "Predicted Target:6, Actual Target: 0\n",
            "Predicted Target:1, Actual Target: 5\n",
            "Predicted Target:6, Actual Target: 6\n",
            "Predicted Target:5, Actual Target: 0\n",
            "Predicted Target:4, Actual Target: 0\n",
            "Predicted Target:5, Actual Target: 3\n",
            "Predicted Target:4, Actual Target: 0\n",
            "Predicted Target:3, Actual Target: 5\n",
            "Predicted Target:4, Actual Target: 5\n",
            "Predicted Target:0, Actual Target: 1\n",
            "Predicted Target:6, Actual Target: 3\n",
            "Predicted Target:6, Actual Target: 0\n",
            "Predicted Target:6, Actual Target: 3\n",
            "Predicted Target:6, Actual Target: 0\n",
            "Predicted Target:0, Actual Target: 6\n",
            "Predicted Target:5, Actual Target: 0\n",
            "Predicted Target:0, Actual Target: 5\n",
            "Predicted Target:6, Actual Target: 6\n",
            "Predicted Target:6, Actual Target: 0\n",
            "Predicted Target:0, Actual Target: 4\n",
            "Predicted Target:1, Actual Target: 0\n",
            "Predicted Target:6, Actual Target: 5\n",
            "Predicted Target:2, Actual Target: 5\n",
            "Predicted Target:1, Actual Target: 4\n",
            "Predicted Target:3, Actual Target: 5\n",
            "Predicted Target:0, Actual Target: 5\n",
            "Predicted Target:0, Actual Target: 0\n",
            "Predicted Target:1, Actual Target: 5\n",
            "Predicted Target:0, Actual Target: 5\n",
            "Predicted Target:0, Actual Target: 1\n",
            "Predicted Target:1, Actual Target: 2\n",
            "Predicted Target:0, Actual Target: 0\n",
            "Predicted Target:6, Actual Target: 0\n",
            "Predicted Target:6, Actual Target: 0\n",
            "Predicted Target:6, Actual Target: 6\n",
            "Predicted Target:6, Actual Target: 1\n",
            "Predicted Target:6, Actual Target: 4\n",
            "Predicted Target:6, Actual Target: 5\n",
            "Predicted Target:4, Actual Target: 0\n",
            "Predicted Target:0, Actual Target: 1\n",
            "Predicted Target:0, Actual Target: 0\n",
            "Predicted Target:5, Actual Target: 3\n",
            "Predicted Target:0, Actual Target: 2\n",
            "Predicted Target:4, Actual Target: 0\n",
            "Predicted Target:6, Actual Target: 6\n",
            "Predicted Target:1, Actual Target: 0\n",
            "Predicted Target:0, Actual Target: 1\n",
            "Predicted Target:0, Actual Target: 0\n",
            "Predicted Target:6, Actual Target: 5\n",
            "Predicted Target:6, Actual Target: 0\n",
            "Predicted Target:0, Actual Target: 5\n",
            "Predicted Target:6, Actual Target: 6\n",
            "Predicted Target:6, Actual Target: 3\n",
            "Predicted Target:0, Actual Target: 5\n",
            "Predicted Target:6, Actual Target: 0\n",
            "Predicted Target:1, Actual Target: 1\n",
            "Predicted Target:0, Actual Target: 1\n",
            "Predicted Target:6, Actual Target: 0\n",
            "Predicted Target:1, Actual Target: 6\n",
            "Predicted Target:5, Actual Target: 6\n",
            "Predicted Target:0, Actual Target: 0\n",
            "Predicted Target:6, Actual Target: 4\n",
            "Predicted Target:1, Actual Target: 5\n",
            "Predicted Target:1, Actual Target: 6\n",
            "Predicted Target:0, Actual Target: 6\n",
            "Predicted Target:5, Actual Target: 2\n",
            "Predicted Target:0, Actual Target: 6\n",
            "Predicted Target:6, Actual Target: 6\n",
            "Predicted Target:0, Actual Target: 0\n",
            "Predicted Target:6, Actual Target: 5\n",
            "Predicted Target:0, Actual Target: 4\n",
            "Predicted Target:6, Actual Target: 0\n",
            "Predicted Target:0, Actual Target: 0\n",
            "Predicted Target:1, Actual Target: 0\n",
            "Predicted Target:0, Actual Target: 6\n",
            "Predicted Target:2, Actual Target: 0\n",
            "Predicted Target:0, Actual Target: 0\n",
            "Predicted Target:0, Actual Target: 6\n",
            "Predicted Target:6, Actual Target: 6\n",
            "Predicted Target:0, Actual Target: 0\n",
            "Predicted Target:6, Actual Target: 6\n",
            "Predicted Target:6, Actual Target: 6\n",
            "Predicted Target:0, Actual Target: 5\n",
            "Predicted Target:6, Actual Target: 1\n",
            "Predicted Target:4, Actual Target: 3\n",
            "Predicted Target:0, Actual Target: 0\n",
            "Predicted Target:4, Actual Target: 1\n",
            "Predicted Target:6, Actual Target: 4\n",
            "Predicted Target:0, Actual Target: 6\n",
            "Predicted Target:6, Actual Target: 0\n",
            "Predicted Target:5, Actual Target: 6\n",
            "Predicted Target:6, Actual Target: 0\n",
            "Predicted Target:6, Actual Target: 5\n",
            "Predicted Target:4, Actual Target: 0\n",
            "Predicted Target:6, Actual Target: 6\n",
            "Predicted Target:0, Actual Target: 0\n",
            "Predicted Target:0, Actual Target: 6\n",
            "Predicted Target:5, Actual Target: 0\n",
            "Predicted Target:1, Actual Target: 0\n",
            "Predicted Target:6, Actual Target: 5\n",
            "Predicted Target:2, Actual Target: 6\n",
            "Predicted Target:5, Actual Target: 6\n",
            "Predicted Target:4, Actual Target: 6\n",
            "Predicted Target:4, Actual Target: 5\n",
            "Predicted Target:1, Actual Target: 4\n",
            "Predicted Target:0, Actual Target: 5\n",
            "Predicted Target:6, Actual Target: 0\n",
            "Predicted Target:0, Actual Target: 6\n",
            "Predicted Target:4, Actual Target: 6\n",
            "Predicted Target:4, Actual Target: 0\n",
            "Predicted Target:0, Actual Target: 6\n",
            "Predicted Target:0, Actual Target: 0\n",
            "Predicted Target:3, Actual Target: 0\n",
            "Predicted Target:6, Actual Target: 4\n",
            "Predicted Target:0, Actual Target: 1\n",
            "Predicted Target:4, Actual Target: 1\n",
            "Predicted Target:0, Actual Target: 0\n",
            "Predicted Target:0, Actual Target: 6\n",
            "Predicted Target:6, Actual Target: 1\n",
            "Predicted Target:0, Actual Target: 6\n",
            "Predicted Target:0, Actual Target: 5\n",
            "Predicted Target:5, Actual Target: 6\n",
            "Predicted Target:0, Actual Target: 5\n",
            "Predicted Target:0, Actual Target: 4\n",
            "Predicted Target:0, Actual Target: 3\n",
            "Predicted Target:4, Actual Target: 4\n",
            "Predicted Target:6, Actual Target: 6\n",
            "Predicted Target:6, Actual Target: 6\n",
            "Predicted Target:6, Actual Target: 0\n",
            "Predicted Target:0, Actual Target: 5\n",
            "Predicted Target:6, Actual Target: 5\n",
            "Predicted Target:3, Actual Target: 1\n",
            "Predicted Target:0, Actual Target: 0\n",
            "Predicted Target:0, Actual Target: 0\n",
            "Predicted Target:0, Actual Target: 5\n",
            "Predicted Target:0, Actual Target: 5\n",
            "Predicted Target:6, Actual Target: 1\n",
            "Predicted Target:2, Actual Target: 2\n",
            "Predicted Target:1, Actual Target: 1\n",
            "Predicted Target:0, Actual Target: 0\n",
            "Predicted Target:0, Actual Target: 5\n",
            "Predicted Target:0, Actual Target: 1\n",
            "Predicted Target:6, Actual Target: 5\n",
            "Predicted Target:1, Actual Target: 5\n",
            "Predicted Target:1, Actual Target: 3\n",
            "Predicted Target:4, Actual Target: 5\n",
            "Predicted Target:5, Actual Target: 0\n",
            "Predicted Target:5, Actual Target: 1\n",
            "Predicted Target:6, Actual Target: 0\n",
            "Predicted Target:0, Actual Target: 0\n",
            "Predicted Target:0, Actual Target: 0\n",
            "Predicted Target:0, Actual Target: 0\n",
            "Predicted Target:5, Actual Target: 1\n",
            "Predicted Target:5, Actual Target: 3\n",
            "Predicted Target:6, Actual Target: 6\n",
            "Predicted Target:4, Actual Target: 6\n",
            "Predicted Target:6, Actual Target: 1\n",
            "Predicted Target:4, Actual Target: 6\n",
            "Predicted Target:0, Actual Target: 5\n",
            "Predicted Target:0, Actual Target: 0\n",
            "Predicted Target:5, Actual Target: 4\n",
            "Predicted Target:2, Actual Target: 6\n",
            "Predicted Target:4, Actual Target: 5\n",
            "Predicted Target:1, Actual Target: 3\n",
            "Predicted Target:0, Actual Target: 1\n",
            "Predicted Target:0, Actual Target: 2\n",
            "Predicted Target:4, Actual Target: 4\n",
            "Predicted Target:0, Actual Target: 1\n",
            "Predicted Target:5, Actual Target: 6\n",
            "Predicted Target:6, Actual Target: 0\n",
            "Predicted Target:5, Actual Target: 0\n",
            "Predicted Target:5, Actual Target: 3\n",
            "Predicted Target:4, Actual Target: 1\n",
            "Predicted Target:6, Actual Target: 5\n",
            "Predicted Target:6, Actual Target: 2\n",
            "Predicted Target:6, Actual Target: 2\n",
            "Predicted Target:5, Actual Target: 6\n",
            "Predicted Target:0, Actual Target: 0\n",
            "Predicted Target:6, Actual Target: 5\n",
            "Predicted Target:0, Actual Target: 0\n",
            "Predicted Target:4, Actual Target: 0\n",
            "Predicted Target:3, Actual Target: 5\n",
            "Predicted Target:1, Actual Target: 0\n",
            "Predicted Target:0, Actual Target: 0\n",
            "Predicted Target:6, Actual Target: 0\n",
            "Predicted Target:4, Actual Target: 0\n",
            "Predicted Target:0, Actual Target: 6\n",
            "Predicted Target:5, Actual Target: 1\n",
            "Predicted Target:0, Actual Target: 6\n",
            "Predicted Target:1, Actual Target: 0\n",
            "Predicted Target:5, Actual Target: 4\n",
            "Predicted Target:4, Actual Target: 6\n",
            "Predicted Target:6, Actual Target: 4\n",
            "Predicted Target:0, Actual Target: 0\n",
            "Predicted Target:2, Actual Target: 6\n",
            "Predicted Target:2, Actual Target: 0\n",
            "Predicted Target:0, Actual Target: 3\n",
            "Predicted Target:0, Actual Target: 0\n",
            "Predicted Target:6, Actual Target: 6\n",
            "Predicted Target:6, Actual Target: 6\n",
            "Predicted Target:0, Actual Target: 5\n",
            "Predicted Target:6, Actual Target: 6\n",
            "Predicted Target:2, Actual Target: 5\n",
            "Predicted Target:5, Actual Target: 0\n",
            "Predicted Target:6, Actual Target: 0\n",
            "Predicted Target:1, Actual Target: 6\n",
            "Predicted Target:4, Actual Target: 5\n",
            "Predicted Target:3, Actual Target: 6\n",
            "Predicted Target:6, Actual Target: 1\n",
            "Predicted Target:0, Actual Target: 0\n",
            "Predicted Target:0, Actual Target: 4\n",
            "Predicted Target:6, Actual Target: 2\n",
            "Predicted Target:6, Actual Target: 4\n",
            "Predicted Target:0, Actual Target: 3\n",
            "Predicted Target:4, Actual Target: 5\n",
            "Predicted Target:0, Actual Target: 2\n",
            "Predicted Target:0, Actual Target: 0\n",
            "Predicted Target:6, Actual Target: 3\n",
            "Predicted Target:4, Actual Target: 6\n",
            "Predicted Target:0, Actual Target: 6\n",
            "Predicted Target:5, Actual Target: 0\n",
            "Predicted Target:6, Actual Target: 6\n",
            "Predicted Target:6, Actual Target: 0\n",
            "Predicted Target:5, Actual Target: 1\n",
            "Predicted Target:0, Actual Target: 6\n",
            "Predicted Target:4, Actual Target: 6\n",
            "Predicted Target:4, Actual Target: 5\n",
            "Predicted Target:4, Actual Target: 2\n",
            "Predicted Target:6, Actual Target: 5\n",
            "Predicted Target:2, Actual Target: 0\n",
            "Predicted Target:1, Actual Target: 6\n",
            "Predicted Target:6, Actual Target: 0\n",
            "Predicted Target:0, Actual Target: 5\n",
            "Predicted Target:0, Actual Target: 1\n",
            "Predicted Target:0, Actual Target: 6\n",
            "Predicted Target:1, Actual Target: 6\n",
            "Predicted Target:6, Actual Target: 6\n",
            "Predicted Target:0, Actual Target: 2\n",
            "Predicted Target:6, Actual Target: 0\n",
            "Predicted Target:1, Actual Target: 0\n",
            "Predicted Target:6, Actual Target: 1\n",
            "Predicted Target:5, Actual Target: 1\n",
            "Predicted Target:0, Actual Target: 5\n",
            "Predicted Target:0, Actual Target: 4\n",
            "Predicted Target:4, Actual Target: 6\n",
            "Predicted Target:4, Actual Target: 6\n",
            "Predicted Target:1, Actual Target: 0\n",
            "Predicted Target:6, Actual Target: 0\n",
            "Predicted Target:4, Actual Target: 6\n",
            "Predicted Target:4, Actual Target: 6\n",
            "Predicted Target:6, Actual Target: 6\n",
            "Predicted Target:5, Actual Target: 6\n",
            "Predicted Target:5, Actual Target: 0\n",
            "Predicted Target:4, Actual Target: 1\n",
            "Predicted Target:0, Actual Target: 2\n",
            "Predicted Target:6, Actual Target: 0\n",
            "Predicted Target:5, Actual Target: 6\n",
            "Predicted Target:6, Actual Target: 6\n",
            "Predicted Target:0, Actual Target: 1\n",
            "Predicted Target:5, Actual Target: 6\n",
            "Predicted Target:6, Actual Target: 5\n",
            "Predicted Target:6, Actual Target: 5\n",
            "Predicted Target:1, Actual Target: 3\n",
            "Predicted Target:2, Actual Target: 0\n",
            "Predicted Target:6, Actual Target: 5\n",
            "Predicted Target:4, Actual Target: 0\n",
            "Predicted Target:3, Actual Target: 6\n",
            "Predicted Target:0, Actual Target: 4\n",
            "Predicted Target:0, Actual Target: 6\n",
            "Predicted Target:5, Actual Target: 5\n",
            "Predicted Target:1, Actual Target: 0\n",
            "Predicted Target:3, Actual Target: 3\n",
            "Predicted Target:0, Actual Target: 6\n",
            "Predicted Target:6, Actual Target: 1\n",
            "Predicted Target:6, Actual Target: 6\n",
            "Predicted Target:1, Actual Target: 4\n",
            "Predicted Target:1, Actual Target: 4\n",
            "Predicted Target:0, Actual Target: 6\n",
            "Predicted Target:6, Actual Target: 5\n",
            "Predicted Target:1, Actual Target: 2\n",
            "Predicted Target:5, Actual Target: 1\n",
            "Predicted Target:0, Actual Target: 6\n",
            "Predicted Target:6, Actual Target: 4\n",
            "Predicted Target:0, Actual Target: 5\n",
            "Predicted Target:0, Actual Target: 0\n",
            "Predicted Target:0, Actual Target: 1\n",
            "Predicted Target:4, Actual Target: 0\n",
            "Predicted Target:4, Actual Target: 1\n",
            "Predicted Target:1, Actual Target: 0\n",
            "Predicted Target:6, Actual Target: 0\n",
            "Predicted Target:5, Actual Target: 0\n",
            "Predicted Target:0, Actual Target: 1\n",
            "Predicted Target:0, Actual Target: 0\n",
            "Predicted Target:5, Actual Target: 0\n",
            "Predicted Target:1, Actual Target: 1\n",
            "Predicted Target:6, Actual Target: 4\n",
            "Predicted Target:4, Actual Target: 6\n",
            "Predicted Target:6, Actual Target: 0\n",
            "Predicted Target:1, Actual Target: 6\n",
            "Predicted Target:4, Actual Target: 0\n",
            "Predicted Target:0, Actual Target: 5\n",
            "Predicted Target:0, Actual Target: 0\n",
            "Predicted Target:6, Actual Target: 6\n",
            "Predicted Target:0, Actual Target: 0\n",
            "Predicted Target:3, Actual Target: 1\n",
            "Predicted Target:4, Actual Target: 6\n",
            "Predicted Target:6, Actual Target: 6\n",
            "Predicted Target:1, Actual Target: 0\n",
            "Predicted Target:2, Actual Target: 5\n",
            "Predicted Target:5, Actual Target: 0\n",
            "Predicted Target:4, Actual Target: 4\n",
            "Predicted Target:6, Actual Target: 5\n",
            "Predicted Target:4, Actual Target: 4\n",
            "Predicted Target:0, Actual Target: 0\n",
            "Predicted Target:6, Actual Target: 4\n",
            "Predicted Target:6, Actual Target: 1\n",
            "Predicted Target:0, Actual Target: 5\n",
            "Predicted Target:6, Actual Target: 2\n",
            "Predicted Target:6, Actual Target: 4\n",
            "Predicted Target:6, Actual Target: 0\n",
            "Predicted Target:5, Actual Target: 0\n",
            "Predicted Target:0, Actual Target: 5\n",
            "Predicted Target:0, Actual Target: 6\n",
            "Predicted Target:6, Actual Target: 1\n",
            "Predicted Target:0, Actual Target: 0\n",
            "Predicted Target:6, Actual Target: 4\n",
            "Predicted Target:0, Actual Target: 0\n",
            "Predicted Target:6, Actual Target: 4\n",
            "Predicted Target:6, Actual Target: 6\n",
            "Predicted Target:0, Actual Target: 1\n",
            "Predicted Target:1, Actual Target: 0\n",
            "Predicted Target:6, Actual Target: 5\n",
            "Predicted Target:1, Actual Target: 6\n",
            "Predicted Target:5, Actual Target: 6\n",
            "Predicted Target:1, Actual Target: 0\n",
            "Predicted Target:5, Actual Target: 0\n",
            "Predicted Target:6, Actual Target: 0\n",
            "Predicted Target:2, Actual Target: 5\n",
            "Predicted Target:0, Actual Target: 1\n",
            "Predicted Target:6, Actual Target: 3\n",
            "Predicted Target:6, Actual Target: 4\n",
            "Predicted Target:5, Actual Target: 3\n",
            "Predicted Target:0, Actual Target: 6\n",
            "Predicted Target:4, Actual Target: 1\n",
            "Predicted Target:0, Actual Target: 0\n",
            "Predicted Target:6, Actual Target: 0\n",
            "Predicted Target:6, Actual Target: 6\n",
            "Predicted Target:6, Actual Target: 6\n",
            "Predicted Target:0, Actual Target: 4\n",
            "Predicted Target:3, Actual Target: 0\n",
            "Predicted Target:4, Actual Target: 4\n",
            "Predicted Target:6, Actual Target: 0\n",
            "Predicted Target:6, Actual Target: 6\n",
            "Predicted Target:0, Actual Target: 6\n",
            "Predicted Target:1, Actual Target: 5\n",
            "Predicted Target:0, Actual Target: 0\n",
            "Predicted Target:6, Actual Target: 1\n",
            "Predicted Target:3, Actual Target: 6\n",
            "Predicted Target:0, Actual Target: 6\n",
            "Predicted Target:1, Actual Target: 0\n",
            "Predicted Target:6, Actual Target: 5\n",
            "Predicted Target:0, Actual Target: 3\n",
            "Predicted Target:6, Actual Target: 1\n",
            "Predicted Target:6, Actual Target: 6\n",
            "Predicted Target:6, Actual Target: 5\n",
            "Predicted Target:1, Actual Target: 0\n",
            "Predicted Target:4, Actual Target: 4\n",
            "Predicted Target:0, Actual Target: 0\n",
            "Predicted Target:4, Actual Target: 0\n",
            "Predicted Target:0, Actual Target: 0\n",
            "Predicted Target:0, Actual Target: 6\n",
            "Predicted Target:3, Actual Target: 6\n",
            "Predicted Target:5, Actual Target: 3\n",
            "Predicted Target:4, Actual Target: 4\n",
            "Predicted Target:0, Actual Target: 0\n",
            "Predicted Target:5, Actual Target: 6\n",
            "Predicted Target:6, Actual Target: 6\n",
            "Predicted Target:1, Actual Target: 6\n",
            "Predicted Target:6, Actual Target: 2\n",
            "Predicted Target:6, Actual Target: 6\n",
            "Predicted Target:1, Actual Target: 0\n",
            "Predicted Target:0, Actual Target: 5\n",
            "Predicted Target:1, Actual Target: 6\n",
            "Predicted Target:6, Actual Target: 6\n",
            "Predicted Target:6, Actual Target: 6\n",
            "Predicted Target:4, Actual Target: 3\n",
            "Predicted Target:1, Actual Target: 0\n",
            "Predicted Target:6, Actual Target: 1\n",
            "Predicted Target:0, Actual Target: 0\n",
            "Predicted Target:6, Actual Target: 4\n",
            "Predicted Target:4, Actual Target: 0\n",
            "Predicted Target:4, Actual Target: 6\n",
            "Predicted Target:6, Actual Target: 5\n",
            "Predicted Target:0, Actual Target: 5\n",
            "Predicted Target:4, Actual Target: 0\n",
            "Predicted Target:4, Actual Target: 0\n",
            "Predicted Target:6, Actual Target: 4\n",
            "Predicted Target:6, Actual Target: 0\n",
            "Predicted Target:6, Actual Target: 1\n",
            "Predicted Target:6, Actual Target: 0\n",
            "Predicted Target:0, Actual Target: 6\n",
            "Predicted Target:6, Actual Target: 4\n",
            "Predicted Target:0, Actual Target: 2\n",
            "Predicted Target:6, Actual Target: 0\n",
            "Predicted Target:0, Actual Target: 4\n",
            "Predicted Target:0, Actual Target: 5\n",
            "Predicted Target:0, Actual Target: 0\n",
            "Predicted Target:4, Actual Target: 6\n",
            "Predicted Target:1, Actual Target: 6\n",
            "Predicted Target:6, Actual Target: 0\n",
            "Predicted Target:4, Actual Target: 6\n",
            "Predicted Target:3, Actual Target: 6\n",
            "Predicted Target:6, Actual Target: 0\n",
            "Predicted Target:1, Actual Target: 0\n",
            "Predicted Target:0, Actual Target: 6\n",
            "Predicted Target:0, Actual Target: 5\n",
            "Predicted Target:0, Actual Target: 0\n",
            "Predicted Target:0, Actual Target: 3\n",
            "Predicted Target:6, Actual Target: 5\n",
            "Predicted Target:6, Actual Target: 6\n",
            "Predicted Target:0, Actual Target: 0\n",
            "Predicted Target:1, Actual Target: 5\n",
            "Predicted Target:0, Actual Target: 4\n",
            "Predicted Target:4, Actual Target: 6\n",
            "Predicted Target:4, Actual Target: 6\n",
            "Predicted Target:4, Actual Target: 5\n",
            "Predicted Target:5, Actual Target: 0\n",
            "Predicted Target:0, Actual Target: 1\n",
            "Predicted Target:3, Actual Target: 6\n",
            "Predicted Target:6, Actual Target: 5\n",
            "Predicted Target:0, Actual Target: 6\n",
            "Predicted Target:0, Actual Target: 0\n",
            "Predicted Target:6, Actual Target: 0\n",
            "Predicted Target:6, Actual Target: 6\n",
            "Predicted Target:1, Actual Target: 1\n",
            "Predicted Target:6, Actual Target: 0\n",
            "Predicted Target:6, Actual Target: 1\n",
            "Predicted Target:3, Actual Target: 5\n",
            "Predicted Target:0, Actual Target: 0\n",
            "Predicted Target:5, Actual Target: 6\n",
            "Predicted Target:6, Actual Target: 1\n",
            "Predicted Target:1, Actual Target: 4\n",
            "Predicted Target:1, Actual Target: 1\n",
            "Predicted Target:6, Actual Target: 0\n",
            "Predicted Target:1, Actual Target: 5\n",
            "Predicted Target:6, Actual Target: 4\n",
            "Predicted Target:0, Actual Target: 0\n",
            "Predicted Target:1, Actual Target: 1\n",
            "Predicted Target:6, Actual Target: 6\n",
            "Predicted Target:6, Actual Target: 6\n",
            "Predicted Target:6, Actual Target: 4\n",
            "Predicted Target:6, Actual Target: 4\n",
            "Predicted Target:3, Actual Target: 1\n",
            "Predicted Target:6, Actual Target: 1\n",
            "Predicted Target:1, Actual Target: 6\n",
            "Predicted Target:6, Actual Target: 0\n",
            "Predicted Target:1, Actual Target: 2\n",
            "Predicted Target:6, Actual Target: 6\n",
            "Predicted Target:4, Actual Target: 1\n",
            "Predicted Target:0, Actual Target: 1\n",
            "Predicted Target:0, Actual Target: 1\n",
            "Predicted Target:0, Actual Target: 0\n",
            "Predicted Target:6, Actual Target: 0\n",
            "Predicted Target:6, Actual Target: 5\n",
            "Predicted Target:6, Actual Target: 0\n",
            "Predicted Target:6, Actual Target: 5\n",
            "Predicted Target:1, Actual Target: 6\n",
            "Predicted Target:0, Actual Target: 6\n",
            "Predicted Target:4, Actual Target: 6\n",
            "Predicted Target:5, Actual Target: 5\n",
            "Predicted Target:6, Actual Target: 5\n",
            "Predicted Target:0, Actual Target: 4\n",
            "Predicted Target:6, Actual Target: 6\n",
            "Predicted Target:4, Actual Target: 6\n",
            "Predicted Target:4, Actual Target: 6\n",
            "Predicted Target:2, Actual Target: 0\n",
            "Predicted Target:0, Actual Target: 0\n",
            "Predicted Target:0, Actual Target: 0\n",
            "Predicted Target:6, Actual Target: 6\n",
            "Predicted Target:5, Actual Target: 6\n",
            "Predicted Target:6, Actual Target: 1\n",
            "Predicted Target:0, Actual Target: 6\n",
            "Predicted Target:1, Actual Target: 0\n",
            "Predicted Target:2, Actual Target: 6\n",
            "Predicted Target:0, Actual Target: 0\n",
            "Predicted Target:0, Actual Target: 1\n",
            "Predicted Target:0, Actual Target: 5\n",
            "Predicted Target:0, Actual Target: 1\n",
            "Predicted Target:5, Actual Target: 3\n",
            "Predicted Target:6, Actual Target: 3\n",
            "Predicted Target:0, Actual Target: 5\n",
            "Predicted Target:1, Actual Target: 0\n",
            "Predicted Target:6, Actual Target: 6\n",
            "Predicted Target:5, Actual Target: 6\n",
            "Predicted Target:4, Actual Target: 5\n",
            "Predicted Target:0, Actual Target: 6\n",
            "Predicted Target:3, Actual Target: 3\n",
            "Predicted Target:0, Actual Target: 3\n",
            "Predicted Target:0, Actual Target: 5\n",
            "Predicted Target:6, Actual Target: 6\n",
            "Predicted Target:5, Actual Target: 0\n",
            "Predicted Target:6, Actual Target: 4\n",
            "Predicted Target:0, Actual Target: 6\n",
            "Predicted Target:0, Actual Target: 0\n",
            "Predicted Target:3, Actual Target: 6\n",
            "Predicted Target:1, Actual Target: 4\n",
            "Predicted Target:6, Actual Target: 6\n",
            "Predicted Target:0, Actual Target: 6\n",
            "Predicted Target:6, Actual Target: 1\n",
            "Predicted Target:6, Actual Target: 0\n",
            "Predicted Target:1, Actual Target: 0\n",
            "Predicted Target:6, Actual Target: 1\n",
            "Predicted Target:0, Actual Target: 5\n",
            "Predicted Target:6, Actual Target: 0\n",
            "Predicted Target:6, Actual Target: 5\n",
            "Predicted Target:5, Actual Target: 5\n",
            "Predicted Target:6, Actual Target: 0\n",
            "Predicted Target:6, Actual Target: 6\n",
            "Predicted Target:6, Actual Target: 1\n",
            "Predicted Target:1, Actual Target: 0\n",
            "Predicted Target:4, Actual Target: 2\n",
            "Predicted Target:0, Actual Target: 6\n",
            "Predicted Target:4, Actual Target: 1\n",
            "Predicted Target:6, Actual Target: 5\n",
            "Predicted Target:6, Actual Target: 1\n",
            "Predicted Target:3, Actual Target: 1\n",
            "Predicted Target:2, Actual Target: 4\n",
            "Predicted Target:4, Actual Target: 3\n",
            "Predicted Target:2, Actual Target: 0\n",
            "Predicted Target:4, Actual Target: 5\n",
            "Predicted Target:6, Actual Target: 1\n",
            "Predicted Target:4, Actual Target: 6\n",
            "Predicted Target:0, Actual Target: 5\n",
            "Predicted Target:1, Actual Target: 0\n",
            "Predicted Target:6, Actual Target: 4\n",
            "Predicted Target:0, Actual Target: 5\n",
            "Predicted Target:0, Actual Target: 5\n",
            "Predicted Target:6, Actual Target: 0\n",
            "Predicted Target:4, Actual Target: 6\n",
            "Predicted Target:1, Actual Target: 6\n",
            "Predicted Target:0, Actual Target: 3\n",
            "Predicted Target:3, Actual Target: 4\n",
            "Predicted Target:6, Actual Target: 0\n",
            "Predicted Target:6, Actual Target: 6\n",
            "Predicted Target:0, Actual Target: 6\n",
            "Predicted Target:0, Actual Target: 2\n",
            "Predicted Target:4, Actual Target: 4\n",
            "Predicted Target:6, Actual Target: 6\n",
            "Predicted Target:4, Actual Target: 6\n",
            "Predicted Target:0, Actual Target: 4\n",
            "Predicted Target:6, Actual Target: 6\n",
            "Predicted Target:0, Actual Target: 6\n",
            "Predicted Target:5, Actual Target: 6\n",
            "Predicted Target:5, Actual Target: 1\n",
            "Predicted Target:0, Actual Target: 6\n",
            "Predicted Target:3, Actual Target: 0\n",
            "Predicted Target:6, Actual Target: 0\n"
          ]
        }
      ]
    },
    {
      "cell_type": "code",
      "source": [],
      "metadata": {
        "id": "bczPWMgtIiQy"
      },
      "execution_count": null,
      "outputs": []
    }
  ]
}